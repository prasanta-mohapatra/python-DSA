{
 "cells": [
  {
   "attachments": {},
   "cell_type": "markdown",
   "metadata": {},
   "source": [
    "# Datatypes in Python\n",
    "## Built-in Data Types\n",
    "1. None Type\n",
    "2. Numeric Type\n",
    "3. Sequnces\n",
    "4. Sets\n",
    "5. Mappings"
   ]
  },
  {
   "attachments": {},
   "cell_type": "markdown",
   "metadata": {},
   "source": [
    "### None Type\n",
    "- None datatype  represents an object that does not contain any value\n",
    "- Maximum only one `None` object is provided\n",
    "- When calling the function if no value is passed, then the default value will be taken as `None`\n",
    "- In boolean expression `None` will be interpreted as `False`"
   ]
  },
  {
   "attachments": {},
   "cell_type": "markdown",
   "metadata": {},
   "source": [
    "### Numeric Type\n",
    "1. int\n",
    "    - it represents integer number.\n",
    "    - integer number is a number without any decimal point or fraction part.\n",
    "    - negative numbers are also considered as integer numbers.\n",
    "    -  Eample: 23, -45, 2000, -9999\n",
    "2. float\n",
    "    - this is reprsent as floating point numbers.\n",
    "    - this is a number contains decimal point or fraction part\n",
    "    - eg: 23.69, -45.0065, 2000.98\n",
    "    - Floating point numbers can also be written in scientific notation where we use scientifi `e`  or `E` tp represent the power of 10\n",
    "    - eg: 2.5 * 10^4 is written as 2.5E4, 22.55 * 10^3 is written as 22.55e3\n",
    "3. complex\n",
    "    - complex number is a number taht is written in the form of a + bj or a +bJ\n",
    "    - here `a` represents the real part of a complex number adn `b` represents the imaginary part of a complex number.\n",
    "    - The suffix `j` or `J` represents the square root value of -1.\n",
    "    - the part `a` and `b` may contains integers or floats.\n",
    "    - eg: 3+5j, -1-5.5J, 0.2+10.5J"
   ]
  },
  {
   "attachments": {},
   "cell_type": "markdown",
   "metadata": {},
   "source": [
    "### Bool Datatype\n",
    "- represents boolean values\n",
    "- it can be either `True` or `False`\n",
    "- internally represents True as 1 and False as 0.\n",
    "- \"\", None, 0, False represents False boolean value"
   ]
  },
  {
   "attachments": {},
   "cell_type": "markdown",
   "metadata": {},
   "source": [
    "### Sequences\n",
    "1. str\n",
    "    - string represents a group of characters\n",
    "    - strings are enclosed in double quotes or single quotes\n",
    "    - `'prasanta'` or `\"prasanta\"` are both valid examples\n",
    "    - we can also write strings inside `'''` or `\"\"\"` to spawn a group of lines including spaces\n",
    "2. bytes\n",
    "    - this represents a group of byte numbers just like an array does.\n",
    "    - A byte number is any positive integer from 0 to 255 (inclusive)\n",
    "    - the array can store any +ve integer from 0 to 255 but -ve numbers cannot be stored\n",
    "    - we cannot modify or edit any element in the bytes type array\n",
    "    - eg: \n",
    "        ``` python\n",
    "            elements = [10, 20, 0, 40, 50] # this is a list of byte numbers\n",
    "            x = bytes(elements) # Convert the list into bytes array\n",
    "            print(x[0]) # display 0th element, i.e. 10\n",
    "            x[0] = 50 # this is not acceptable because it is immutable\n",
    "        ```\n",
    "3. bytearray\n",
    "    - bytearray is similar to bytes datatype\n",
    "    - the only difference between these datatypes is that byte type array cannot be modified but bytearray can be modified.\n",
    "    - to create a bytearray we can use `bytearray`\n",
    "    - eg: \n",
    "        ``` python\n",
    "            elements = [10, 20, 0, 40, 50] # this is a list of byte numbers\n",
    "            x = bytearray(elements) # Convert the list into bytes array\n",
    "            print(x[0]) # display 0th element, i.e. 10\n",
    "            x[0] = 50 # this is acceptable because it is mutable\n",
    "        ```\n",
    "4. list\n",
    "    - List are similar to arrays but it can contain all types of elements instead of just homogeneous items\n",
    "    - lists can grow dynamically in memory\n",
    "    - but the size of array is fixed and they cannot grow at runtime\n",
    "    - it is represented using square brackets `[]`\n",
    "    - eg: `[1, True, 'Prasant', \"kumar\", 4.79, -10]`\n",
    "5. tuple\n",
    "    - Tuple is similar to list\n",
    "    - elements of tuple are separated by commas and elements are enclosed with parenthesis `()`\n",
    "    - Difference between tuple and list are \n",
    "6. range"
   ]
  },
  {
   "attachments": {},
   "cell_type": "markdown",
   "metadata": {},
   "source": []
  }
 ],
 "metadata": {
  "language_info": {
   "name": "python"
  },
  "orig_nbformat": 4
 },
 "nbformat": 4,
 "nbformat_minor": 2
}
