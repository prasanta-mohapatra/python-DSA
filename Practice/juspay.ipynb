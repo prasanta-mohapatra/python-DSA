{
 "cells": [
  {
   "attachments": {},
   "cell_type": "markdown",
   "metadata": {},
   "source": [
    "### Problem Description : Maximun Weight Node\n",
    "You are given a maze with N cells. Each cell may have multiple entry points but not more than one exit (i.e. entry/exit points are unidirectional doors like valves).\n",
    "The cells are named with an integer from 0 to N-1.\n",
    "\n",
    "### You have to find :\n",
    "Find the node number of maximum weight node (Weight of a node is the sum of all nodes pointing to that node).\n",
    "\n",
    "### INPUT FORMAT :\n",
    "The first line contains the number of cells N.\n",
    "The second line has a list of N values of the edge[ ] array, where edge[i] conatins the cell number that can be reached from cell 'i' in one step. edge[i] is -1 if the ith doesn't have ans exit.\n",
    "\n",
    "### OUTPUT FORMAT :\n",
    "First line denotes the node number with maximum weight node.\n",
    "\n",
    "### Sample Input :\n",
    "23\n",
    "4 4 1 4 13 8 8 8 0 8 14 9 15 11 -1 10 15 22 22 22 22 22 21\n",
    "\n",
    "### Sample Output :\n",
    "22"
   ]
  },
  {
   "cell_type": "code",
   "execution_count": 51,
   "metadata": {},
   "outputs": [],
   "source": [
    "def max_weight_node_sol(n, arr):\n",
    "    if max(arr) == -1:\n",
    "        return -1\n",
    "    max_weight = float('-inf')\n",
    "    maximum_weight_node = -1\n",
    "    weights = [0] * (max(arr)+1)\n",
    "    for i in range(n):\n",
    "        source = i\n",
    "        dest = arr[i]\n",
    "        if dest != -1:\n",
    "            weights[dest] += source\n",
    "            if max_weight <= weights[dest]:\n",
    "                max_weight = weights[dest]\n",
    "                maximum_weight_node = dest\n",
    "    if max(weights) < 0:\n",
    "        return -1\n",
    "    return maximum_weight_node"
   ]
  },
  {
   "cell_type": "code",
   "execution_count": 13,
   "metadata": {},
   "outputs": [],
   "source": [
    "def max_weight_node_sol_1(arr):\n",
    "    ans = float('-inf')\n",
    "    result = -1\n",
    "    weight = [0] * len(arr)\n",
    "    \n",
    "    for i in range(len(arr)):\n",
    "        source = i\n",
    "        dest = arr[i]\n",
    "        \n",
    "        if dest != -1:\n",
    "            weight[dest] += source\n",
    "            if ans <= weight[dest]:\n",
    "                ans = max(ans, weight[dest])\n",
    "                result = dest\n",
    "    \n",
    "    if ans != float('-inf'):\n",
    "        return result\n",
    "    return -1\n"
   ]
  },
  {
   "cell_type": "code",
   "execution_count": 57,
   "metadata": {},
   "outputs": [],
   "source": [
    "import collections\n",
    "\n",
    "def max_weight_node(n, edges):\n",
    "    counter = collections.defaultdict(int)\n",
    "    for i, value in enumerate(edges):\n",
    "        if value != -1:\n",
    "            counter[value] += i\n",
    "    if not len(counter.values()):\n",
    "        return -1\n",
    "    req = max(counter.values())\n",
    "    for key, value in counter.items():\n",
    "        if value == req:\n",
    "            return(key)"
   ]
  },
  {
   "cell_type": "code",
   "execution_count": 58,
   "metadata": {},
   "outputs": [
    {
     "name": "stdout",
     "output_type": "stream",
     "text": [
      "10 10\n",
      "10 10\n",
      "8 5\n",
      "8 5\n",
      "-1 -1\n",
      "-1 -1\n",
      "4 4\n",
      "4 4\n",
      "22 22\n",
      "22 22\n"
     ]
    }
   ],
   "source": [
    "n = 5\n",
    "edg = [\"1 2 3 4 5 6 7 8 9 10\", \"-1 2 -1 4 5 -1 7 8\", \"-1 -1 -1 -1 -1 -1\", \"-1 1 2 3 4\", \"4 4 1 4 13 8 8 8 0 8 14 9 15 11 -1 10 15 22 22 22 22 22 21\", \"1, 2, 3, 4, -1\"]\n",
    "outs = [10, 5, -1, 4, 22]\n",
    "for i in range(n):\n",
    "    edges = list(map(int, edg[i].split()))\n",
    "    output = max_weight_node(len(edges), edges)\n",
    "    print(output,outs[i])\n",
    "    output_1 = max_weight_node_sol(len(edges), edges)\n",
    "    print(output_1,outs[i])"
   ]
  },
  {
   "cell_type": "code",
   "execution_count": null,
   "metadata": {},
   "outputs": [],
   "source": [
    "v = int(input())\n",
    "l = list(map(int, input().split()))\n",
    "print(max_weight_node(v, l))"
   ]
  },
  {
   "attachments": {},
   "cell_type": "markdown",
   "metadata": {},
   "source": [
    "### Problem Description : Nearest Meeting cell\n",
    "\n",
    "You are given a maze with N cells. Each cell may have multiple entry points but not more than one exit (i.e. entry/exit points are unidirectional doors like valves). The cells are named with an integer from 0 to N-1.\n",
    "\n",
    "### You have to find :\n",
    "\n",
    "Nearest meeting cell : Given any two cells - C1, C2, find the closest cell Cm that can be reached from both C1 and C2.\n",
    "\n",
    "### INPUT FORMAT :\n",
    "\n",
    "The first line contains the number of cells N.\n",
    "The second line has a list of N values of the edge[ ] array, where edge[i] conatins the cell number that can be reached from cell 'i' in one step. edge[i] is -1 if the ith doesn't have an exit.\n",
    "Third line for each testcase contains two cell numbers whose nearest meeting cell needs to be found. (return -1 if there is no meeting cell from two given cells)\n",
    "OUTPUT FORMAT :\n",
    "Output a single line that denotes the nearest meeting cell (NMC).\n",
    "\n",
    "### Sample Input :\n",
    "23\n",
    "4 4 1 4 13 8 8 8 0 8 14 9 15 11 -1 10 15 22 22 22 22 22 21\n",
    "9 2\n",
    "\n",
    "### Sample Output :\n",
    "4"
   ]
  },
  {
   "cell_type": "code",
   "execution_count": 2,
   "metadata": {},
   "outputs": [],
   "source": [
    "import heapq\n",
    "from typing import List\n",
    "\n",
    "def dijkstra(graph: List[List[int]], start: int) -> List[int]:\n",
    "    n = len(graph)\n",
    "    dist = [float('inf')] * n\n",
    "    dist[start] = 0\n",
    "    heap = [(0, start)]\n",
    "    while heap:\n",
    "        d, u = heapq.heappop(heap)\n",
    "        if d > dist[u]:\n",
    "            continue\n",
    "        for v, weight in graph[u]:\n",
    "            alt = dist[u] + weight\n",
    "            if alt < dist[v]:\n",
    "                dist[v] = alt\n",
    "                heapq.heappush(heap, (alt, v))\n",
    "    return dist\n",
    "\n",
    "def nearest_meeting_cell(n: int, edges: List[int], c1: int, c2: int) -> int:\n",
    "    graph = [[] for _ in range(n)]\n",
    "    for i, e in enumerate(edges):\n",
    "        if e != -1:\n",
    "            graph[i].append((e, i))  # Store the edge weight as the node number\n",
    "    a = dijkstra(graph, c1)\n",
    "    b = dijkstra(graph, c2)\n",
    "    min_dist = float('inf')\n",
    "    min_node = -1\n",
    "    for i in range(n):\n",
    "        if a[i] != float('inf') and b[i] != float('inf') and a[i] + b[i] < min_dist:\n",
    "            min_dist = a[i] + b[i]\n",
    "            min_node = i\n",
    "    return min_node"
   ]
  },
  {
   "cell_type": "code",
   "execution_count": 81,
   "metadata": {},
   "outputs": [],
   "source": [
    "def nearest_meeting_cells(edges:list, c1:int, c2:int):\n",
    "    counter = {}\n",
    "    while True:\n",
    "        if c1 == c2:\n",
    "            return c2\n",
    "        elif edges[c1] != -1:\n",
    "            if c1 in counter:\n",
    "                break\n",
    "            counter[c1] = edges[c1]\n",
    "            c1 = edges[c1]\n",
    "        else:\n",
    "            break;\n",
    "    while True:\n",
    "        if c2 in counter:\n",
    "            return c2\n",
    "        elif edges[c2] != -1:\n",
    "            c2 = edges[c2]\n",
    "        else:\n",
    "            return -1"
   ]
  },
  {
   "cell_type": "code",
   "execution_count": 76,
   "metadata": {},
   "outputs": [
    {
     "name": "stdout",
     "output_type": "stream",
     "text": [
      "4 4\n",
      "4 4\n"
     ]
    }
   ],
   "source": [
    "edges = list(map(int, \"4 4 1 4 13 8 8 8 0 8 14 9 15 11 -1 10 15 22 22 22 22 22 21\".split()))\n",
    "c1, c2 = map(int, \"9 2\".split())\n",
    "output = nearest_meeting_cells(edges, c1, c2)\n",
    "print(output, 4)\n",
    "output1 = nearest_meeting_cell(len(edges), edges, c1, c2)\n",
    "print(output1, 4)"
   ]
  },
  {
   "cell_type": "code",
   "execution_count": 82,
   "metadata": {},
   "outputs": [
    {
     "name": "stdout",
     "output_type": "stream",
     "text": [
      "3 2\n",
      "3 2\n",
      "-1 4\n",
      "-1 4\n",
      "-1 -1\n",
      "-1 -1\n",
      "4 4\n",
      "4 4\n",
      "-1 2\n",
      "-1 2\n"
     ]
    }
   ],
   "source": [
    "n = 5\n",
    "edg = [\"2 3 4 -1 0\", \"4 -1 2 0 5 6 1 3\", \"-1 1 2 3 -1 4\", \"4 4 1 4 13 8 8 8 0 8 14 9 15 11 -1 10 15 22 22 22 22 22 21\", \"2 3 4 -1 0 1\"]\n",
    "cs = [\"1 3\", \"2 5\", \"1 5\", \"9 2\", \"0 3\"]\n",
    "outs = [2, 4, -1, 4, 2]\n",
    "for i in range(n):\n",
    "    edges = list(map(int, edg[i].split()))\n",
    "    c1, c2 = map(int, cs[i].split())\n",
    "    output = nearest_meeting_cells(edges, c1, c2)\n",
    "    print(output, outs[i])\n",
    "    output1 = nearest_meeting_cell(len(edges), edges, c1, c2)\n",
    "    print(output1, outs[i])"
   ]
  },
  {
   "cell_type": "code",
   "execution_count": null,
   "metadata": {},
   "outputs": [],
   "source": [
    "n = int(input())\n",
    "edges = list(map(int, input().split()))\n",
    "c1, c2 = map(int, input().split())\n",
    "print(nearest_meeting_cell(n, edges, c1, c2))"
   ]
  },
  {
   "attachments": {},
   "cell_type": "markdown",
   "metadata": {},
   "source": [
    "### Problem Description: Largest Sum Cycle\n",
    "You are given a maze with N cells. Each cell may have multiple entry points but not more than one exit (ie. entry/exit points are unidirectional doors like valves).\n",
    "The cells are named with an integer value from 0 to N-1.\n",
    "\n",
    "### You have to find:\n",
    "You need to find the the length of the largest cycle in the maze. Return -1 if there are no cycles.\n",
    "\n",
    "### INPUT FORMAT\n",
    "First line has the number of cells N\n",
    "Second line has list of N values of the edge[] array. edge[i] contains the cell number that can be reached from of cell ‘i’ in one step. edge[i] is -1 if the ‘i’th cell doesn’t have an exit.\n",
    "\n",
    "### OUTPUT FORMAT\n",
    "length of the largest cycle.\n",
    "\n",
    "### Sample input:\n",
    "23\n",
    "4 4 1 4 13 8 8 8 0 8 14 9 15 11 -1 10 15 22 22 22 22 22 21\n",
    "\n",
    "### Sample output\n",
    "6"
   ]
  },
  {
   "cell_type": "code",
   "execution_count": 139,
   "metadata": {},
   "outputs": [],
   "source": [
    "def largest_sum_cycle(n:int, edges:list):\n",
    "    counter = set()\n",
    "    largest_cycle = 0\n",
    "    for i in range(n):\n",
    "        if i in counter:\n",
    "            continue\n",
    "        inner_cycle = edges[i]\n",
    "        inner_largest = 0\n",
    "        while inner_cycle not in counter and (inner_cycle != -1):\n",
    "            inner_largest += 1\n",
    "            counter.add(inner_cycle)\n",
    "            inner_cycle = edges[inner_cycle]\n",
    "        largest_cycle = max(largest_cycle, inner_largest)\n",
    "    if not largest_cycle:\n",
    "        return -1\n",
    "    return largest_cycle\n"
   ]
  },
  {
   "cell_type": "code",
   "execution_count": 140,
   "metadata": {},
   "outputs": [
    {
     "name": "stdout",
     "output_type": "stream",
     "text": [
      "3 3\n"
     ]
    }
   ],
   "source": [
    "edges = list(map(int, \"4 4 1 4 13 8 8 8 0 8 14 9 15 11 -1 10 15 22 22 22 22 22 21\".split()))\n",
    "edges = [1, 2, 3, 2, 5, -1]\n",
    "output = largest_sum_cycle(len(edges), edges)\n",
    "print(output, 3)"
   ]
  },
  {
   "cell_type": "code",
   "execution_count": null,
   "metadata": {},
   "outputs": [],
   "source": []
  }
 ],
 "metadata": {
  "kernelspec": {
   "display_name": "Python 3",
   "language": "python",
   "name": "python3"
  },
  "language_info": {
   "codemirror_mode": {
    "name": "ipython",
    "version": 3
   },
   "file_extension": ".py",
   "mimetype": "text/x-python",
   "name": "python",
   "nbconvert_exporter": "python",
   "pygments_lexer": "ipython3",
   "version": "3.10.8"
  },
  "orig_nbformat": 4
 },
 "nbformat": 4,
 "nbformat_minor": 2
}
