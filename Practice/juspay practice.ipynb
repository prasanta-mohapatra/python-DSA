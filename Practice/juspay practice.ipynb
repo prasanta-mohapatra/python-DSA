{
 "cells": [
  {
   "attachments": {},
   "cell_type": "markdown",
   "metadata": {},
   "source": [
    "### Implement a function that checks if a given string is a palindrome"
   ]
  },
  {
   "cell_type": "code",
   "execution_count": 23,
   "metadata": {},
   "outputs": [
    {
     "name": "stdout",
     "output_type": "stream",
     "text": [
      "prasant False False\n",
      "Correct Output\n",
      "ana True True\n",
      "Correct Output\n",
      "12098 False False\n",
      "Correct Output\n",
      "121 True True\n",
      "Correct Output\n",
      "anna True True\n",
      "Correct Output\n",
      "1221 True True\n",
      "Correct Output\n"
     ]
    }
   ],
   "source": [
    "def check_palindrome(input_data):\n",
    "    input_data = str(input_data)\n",
    "    return input_data == input_data[::-1]\n",
    "\n",
    "input_to_check = ['prasant', 'ana', 12098, 121, 'anna', 1221]\n",
    "output_to_check = [False, True, False, True, True, True]\n",
    "for i, inp in enumerate(input_to_check):\n",
    "    output = check_palindrome(inp)\n",
    "    print(inp, output_to_check[i], output)\n",
    "    if (output_to_check[i] == output):\n",
    "        print(\"Correct Output\")\n",
    "    else:\n",
    "        print(\"Something went wrong\")\n"
   ]
  },
  {
   "attachments": {},
   "cell_type": "markdown",
   "metadata": {},
   "source": [
    "### Write a program to find the largest prime number within a given range."
   ]
  },
  {
   "cell_type": "code",
   "execution_count": 22,
   "metadata": {},
   "outputs": [
    {
     "name": "stdout",
     "output_type": "stream",
     "text": [
      "997\n"
     ]
    }
   ],
   "source": [
    "import math\n",
    "\n",
    "def is_prime(number):\n",
    "    if number < 2:\n",
    "        return False\n",
    "    for i in range(2, int(math.sqrt(number)) + 1):\n",
    "        if number % i == 0:\n",
    "            return False\n",
    "    return True\n",
    "def largest_prime_number(min_number, max_number):\n",
    "    for num in range(max_number, min_number, -1):\n",
    "        if is_prime(num):\n",
    "            return(num)\n",
    "\n",
    "print(largest_prime_number(min_number=20, max_number=1000))"
   ]
  },
  {
   "attachments": {},
   "cell_type": "markdown",
   "metadata": {},
   "source": [
    "### Given an array of integers, write a function to find the maximum product of any two numbers in the array."
   ]
  },
  {
   "cell_type": "code",
   "execution_count": 26,
   "metadata": {},
   "outputs": [
    {
     "name": "stdout",
     "output_type": "stream",
     "text": [
      "20\n"
     ]
    }
   ],
   "source": [
    "def max_product(nums):\n",
    "    if(len(nums) < 2):\n",
    "        return None\n",
    "    max_num, second_max_num = float('-inf'), float('-inf')\n",
    "\n",
    "    for num in nums:\n",
    "        if num > max_num:\n",
    "            second_max_num = max_num\n",
    "            max_num = num\n",
    "        elif num > second_max_num:\n",
    "            second_max_num = num\n",
    "            \n",
    "    return max_num * second_max_num\n",
    "\n",
    "\n",
    "\n",
    "numbers = [1, 4, 2, 5, 3]\n",
    "max_product = max_product(numbers)\n",
    "print(max_product)  # Output: 20 (4 * 5)"
   ]
  },
  {
   "attachments": {},
   "cell_type": "markdown",
   "metadata": {},
   "source": [
    "### Implement a stack data structure with push, pop, and top operations."
   ]
  },
  {
   "cell_type": "code",
   "execution_count": 27,
   "metadata": {},
   "outputs": [],
   "source": [
    "class Stack:\n",
    "    def __init__(self) -> None:\n",
    "        self.data = []\n",
    "    \n",
    "    def push(self, inp):\n",
    "        self.data.push(inp)\n",
    "    \n",
    "    def pop(self):\n",
    "        if not self.is_empty():\n",
    "            return self.data.pop()\n",
    "        else:\n",
    "            return None\n",
    "    \n",
    "    def top(self):\n",
    "        if not self.is_empty():\n",
    "            return self.data[-1]\n",
    "        else:\n",
    "            return None\n",
    "    \n",
    "    def is_empty(self):\n",
    "        return len(self.data) == 0"
   ]
  },
  {
   "attachments": {},
   "cell_type": "markdown",
   "metadata": {},
   "source": [
    "### Write a program to count the frequency of each word in a given text file."
   ]
  },
  {
   "cell_type": "code",
   "execution_count": 29,
   "metadata": {},
   "outputs": [],
   "source": [
    "from collections import Counter\n",
    "\n",
    "def count_word_frequency(file_path, word):\n",
    "    word_freq = Counter()\n",
    "    with open(file_path, \"r\") as file:\n",
    "        for line in file:\n",
    "            words = line.strip().split()\n",
    "            word_freq.update(words)\n",
    "\n",
    "    return word_freq\n"
   ]
  },
  {
   "cell_type": "code",
   "execution_count": 30,
   "metadata": {},
   "outputs": [],
   "source": [
    "def count_word_frequency(file_path):\n",
    "    word_freq = {}\n",
    "\n",
    "    with open(file_path, 'r') as file:\n",
    "        for line in file:\n",
    "            words = line.strip().split()\n",
    "            for word in words:\n",
    "                word_freq[word] = word_freq.get(word, 0) + 1\n",
    "\n",
    "    return word_freq"
   ]
  },
  {
   "attachments": {},
   "cell_type": "markdown",
   "metadata": {},
   "source": [
    "### Given a list of numbers, write a function to find the second smallest number in the list."
   ]
  },
  {
   "cell_type": "code",
   "execution_count": 34,
   "metadata": {},
   "outputs": [],
   "source": [
    "def find_second_smallest(nums):\n",
    "    if len(nums) < 2:\n",
    "        return None\n",
    "    smallest = second_smallest = float('inf')\n",
    "    for num in nums:\n",
    "        if num < smallest:\n",
    "            second_smallest, smallest = smallest, num\n",
    "        elif num < second_smallest:\n",
    "            second_smallest = num\n",
    "    \n",
    "    return second_smallest"
   ]
  },
  {
   "attachments": {},
   "cell_type": "markdown",
   "metadata": {},
   "source": [
    "### Implement a binary search algorithm to find the index of a given element in a sorted array."
   ]
  },
  {
   "cell_type": "code",
   "execution_count": 35,
   "metadata": {},
   "outputs": [
    {
     "name": "stdout",
     "output_type": "stream",
     "text": [
      "Index: 5\n"
     ]
    }
   ],
   "source": [
    "def find_index_binary_search(sorted_array, element):\n",
    "    left = 0\n",
    "    right = len(sorted_array) - 1\n",
    "    while left <= right:\n",
    "        mid = left + (right - left) // 2\n",
    "        if sorted_array[mid] == element:\n",
    "            return mid\n",
    "        \n",
    "        if sorted_array[mid] > element:\n",
    "            right = mid + 1\n",
    "        else:\n",
    "            left = mid - 1\n",
    "    return -1\n",
    "\n",
    "arr = [2, 5, 8, 12, 16, 23, 38, 56, 72, 91]\n",
    "target = 23\n",
    "\n",
    "index = find_index_binary_search(arr, target)\n",
    "print(\"Index:\", index)  # Output: Index: 5"
   ]
  },
  {
   "attachments": {},
   "cell_type": "markdown",
   "metadata": {},
   "source": [
    "### Write a function to check if two strings are anagrams of each other."
   ]
  },
  {
   "cell_type": "code",
   "execution_count": 41,
   "metadata": {},
   "outputs": [
    {
     "name": "stdout",
     "output_type": "stream",
     "text": [
      "The strings are anagrams\n"
     ]
    }
   ],
   "source": [
    "def check_anagrams(string_1, string_2):\n",
    "    if len(string_1) != len(string_2):\n",
    "        return False\n",
    "\n",
    "    letter_count = {}\n",
    "\n",
    "    for letter in string_1:\n",
    "        letter_count[letter] = letter_count.get(letter, 0) + 1\n",
    "    \n",
    "    for letter in string_2:\n",
    "        if not letter_count.get(letter, 0):\n",
    "            return False\n",
    "        letter_count[letter] -= 1\n",
    "\n",
    "    return True\n",
    "\n",
    "str1 = \"listen\"\n",
    "str2 = \"silent\"\n",
    "\n",
    "if check_anagrams(str1, str2):\n",
    "    print(\"The strings are anagrams\")\n",
    "else:\n",
    "    print(\"The strings are not anagrams\")"
   ]
  },
  {
   "attachments": {},
   "cell_type": "markdown",
   "metadata": {},
   "source": [
    "### Given a matrix, write a function to get the transpose of the matrix"
   ]
  },
  {
   "cell_type": "code",
   "execution_count": 44,
   "metadata": {},
   "outputs": [
    {
     "name": "stdout",
     "output_type": "stream",
     "text": [
      "[1, 4, 7]\n",
      "[2, 5, 8]\n",
      "[3, 6, 9]\n"
     ]
    }
   ],
   "source": [
    "def transpose_matrix(matrix):\n",
    "    n = len(matrix)\n",
    "    for i in range(n):\n",
    "        for j in range(i + 1, n):\n",
    "            matrix[i][j], matrix[j][i] = matrix[j][i], matrix[i][j]\n",
    "    return matrix\n",
    "\n",
    "matrix = [[1, 2, 3],\n",
    "          [4, 5, 6],\n",
    "          [7, 8, 9]]\n",
    "\n",
    "result = transpose_matrix(matrix)\n",
    "for row in result:\n",
    "    print(row)"
   ]
  },
  {
   "attachments": {},
   "cell_type": "markdown",
   "metadata": {},
   "source": [
    "### Given a matrix, write a function to rotate it 90 degrees clockwise."
   ]
  },
  {
   "cell_type": "code",
   "execution_count": 59,
   "metadata": {},
   "outputs": [
    {
     "name": "stdout",
     "output_type": "stream",
     "text": [
      "[7, 4, 1]\n",
      "[8, 5, 2]\n",
      "[9, 6, 3]\n",
      "[10, 7, 4]\n"
     ]
    }
   ],
   "source": [
    "\"\"\" \n",
    "0,0 -> 0,2 -> n=3\n",
    "1,0 -> 0,1\n",
    "2,0 -> 0,0\n",
    "0,1 -> 1,2\n",
    "1,1 -> 1,1\n",
    "2,1 -> 1,0\n",
    "0,2 -> 2,2\n",
    "1,2 -> 2,1\n",
    "2,2 -> 2,0 \"\"\"\n",
    "\n",
    "def rotate_matrix_90_deg(matrix):\n",
    "    n = len(matrix)\n",
    "    m = len(matrix[0])\n",
    "    new_matrix = [[0] * n for _ in range(m)]\n",
    "    for i in range(n):\n",
    "        for j in range(m):\n",
    "            new_matrix[j][n - 1 - i] = matrix[i][j]\n",
    "    return new_matrix\n",
    "\n",
    "matrix = [[1, 2, 3, 4],\n",
    "          [4, 5, 6, 7],\n",
    "          [7, 8, 9, 10]]\n",
    "\n",
    "result = rotate_matrix_90_deg(matrix)\n",
    "for row in result:\n",
    "    print(row)"
   ]
  },
  {
   "attachments": {},
   "cell_type": "markdown",
   "metadata": {},
   "source": [
    "### Implement a function to calculate the Fibonacci sequence up to a given number."
   ]
  },
  {
   "cell_type": "code",
   "execution_count": 64,
   "metadata": {},
   "outputs": [
    {
     "name": "stdout",
     "output_type": "stream",
     "text": [
      "[0, 1, 1, 2, 3, 5, 8, 13, 21, 34, 55, 89]\n"
     ]
    }
   ],
   "source": [
    "def calculate_fibonacci_sequence(upto_num):\n",
    "    if upto_num < 1:\n",
    "        return []\n",
    "    sequence = [0, 1]\n",
    "\n",
    "    while True:\n",
    "        fibonacci_num = sequence[-1] + sequence[-2]\n",
    "        if fibonacci_num > upto_num:\n",
    "            return sequence\n",
    "        sequence.append(fibonacci_num)\n",
    "\n",
    "print(calculate_fibonacci_sequence(upto_num=100))"
   ]
  },
  {
   "attachments": {},
   "cell_type": "markdown",
   "metadata": {},
   "source": [
    "### Find the shortest path between two nodes in a weighted graph"
   ]
  },
  {
   "cell_type": "code",
   "execution_count": 66,
   "metadata": {},
   "outputs": [],
   "source": [
    "from collections import defaultdict\n",
    "import heapq\n",
    "\n",
    "def shortest_path(graph, start, end):\n",
    "    # Create a dictionary to store the shortest distances\n",
    "    distances = defaultdict(lambda: float('inf'))\n",
    "    distances[start] = 0\n",
    "\n",
    "    # Create a priority queue to keep track of the vertices to visit\n",
    "    queue = [(0, start)]\n",
    "\n",
    "    while queue:\n",
    "        # Get the vertex with the smallest distance\n",
    "        current_dist, current_node = heapq.heappop(queue)\n",
    "\n",
    "        # If the current node is the destination, we have found the shortest path\n",
    "        if current_node == end:\n",
    "            break\n",
    "\n",
    "        # Iterate through the neighbors of the current node\n",
    "        for neighbor, weight in graph[current_node].items():\n",
    "            # Calculate the distance to the neighbor\n",
    "            distance = current_dist + weight\n",
    "\n",
    "            # If the new distance is shorter, update the distance and add the neighbor to the queue\n",
    "            if distance < distances[neighbor]:\n",
    "                distances[neighbor] = distance\n",
    "                heapq.heappush(queue, (distance, neighbor))\n",
    "\n",
    "    # Reconstruct the shortest path\n",
    "    path = []\n",
    "    while end != start:\n",
    "        path.append(end)\n",
    "        for neighbor, weight in graph[end].items():\n",
    "            if distances[neighbor] + weight == distances[end]:\n",
    "                end = neighbor\n",
    "                break\n",
    "    path.append(start)\n",
    "\n",
    "    # Reverse the path to get the correct order\n",
    "    path.reverse()\n",
    "\n",
    "    return path, distances[end]\n",
    "\n",
    "# Example usage:\n",
    "graph = {\n",
    "    'A': {'B': 5, 'C': 2},\n",
    "    'B': {'D': 4, 'E': 2},\n",
    "    'C': {'B': 1, 'D': 6},\n",
    "    'D': {'E': 1},\n",
    "    'E': {}\n",
    "}\n",
    "start_node = 'A'\n",
    "end_node = 'E'\n",
    "path, distance = shortest_path(graph, start_node, end_node)\n",
    "print(\"Shortest path:\", path)\n",
    "print(\"Distance:\", distance)"
   ]
  },
  {
   "cell_type": "code",
   "execution_count": 2,
   "metadata": {},
   "outputs": [
    {
     "ename": "MemoryError",
     "evalue": "",
     "output_type": "error",
     "traceback": [
      "\u001b[1;31m---------------------------------------------------------------------------\u001b[0m",
      "\u001b[1;31mMemoryError\u001b[0m                               Traceback (most recent call last)",
      "\u001b[1;32md:\\leetcode-solution\\Python\\juspay practice.ipynb Cell 26\u001b[0m in \u001b[0;36m4\n\u001b[0;32m     <a href='vscode-notebook-cell:/d%3A/leetcode-solution/Python/juspay%20practice.ipynb#X42sZmlsZQ%3D%3D?line=43'>44</a>\u001b[0m start_node \u001b[39m=\u001b[39m \u001b[39m'\u001b[39m\u001b[39mA\u001b[39m\u001b[39m'\u001b[39m\n\u001b[0;32m     <a href='vscode-notebook-cell:/d%3A/leetcode-solution/Python/juspay%20practice.ipynb#X42sZmlsZQ%3D%3D?line=44'>45</a>\u001b[0m end_node \u001b[39m=\u001b[39m \u001b[39m'\u001b[39m\u001b[39mE\u001b[39m\u001b[39m'\u001b[39m\n\u001b[1;32m---> <a href='vscode-notebook-cell:/d%3A/leetcode-solution/Python/juspay%20practice.ipynb#X42sZmlsZQ%3D%3D?line=45'>46</a>\u001b[0m path, distance \u001b[39m=\u001b[39m shortest_path(graph, start_node, end_node)\n\u001b[0;32m     <a href='vscode-notebook-cell:/d%3A/leetcode-solution/Python/juspay%20practice.ipynb#X42sZmlsZQ%3D%3D?line=46'>47</a>\u001b[0m \u001b[39mprint\u001b[39m(\u001b[39m\"\u001b[39m\u001b[39mShortest path:\u001b[39m\u001b[39m\"\u001b[39m, path)\n\u001b[0;32m     <a href='vscode-notebook-cell:/d%3A/leetcode-solution/Python/juspay%20practice.ipynb#X42sZmlsZQ%3D%3D?line=47'>48</a>\u001b[0m \u001b[39mprint\u001b[39m(\u001b[39m\"\u001b[39m\u001b[39mDistance:\u001b[39m\u001b[39m\"\u001b[39m, distance)\n",
      "\u001b[1;32md:\\leetcode-solution\\Python\\juspay practice.ipynb Cell 26\u001b[0m in \u001b[0;36m2\n\u001b[0;32m     <a href='vscode-notebook-cell:/d%3A/leetcode-solution/Python/juspay%20practice.ipynb#X42sZmlsZQ%3D%3D?line=21'>22</a>\u001b[0m path \u001b[39m=\u001b[39m []\n\u001b[0;32m     <a href='vscode-notebook-cell:/d%3A/leetcode-solution/Python/juspay%20practice.ipynb#X42sZmlsZQ%3D%3D?line=22'>23</a>\u001b[0m \u001b[39mwhile\u001b[39;00m end \u001b[39m!=\u001b[39m start:\n\u001b[1;32m---> <a href='vscode-notebook-cell:/d%3A/leetcode-solution/Python/juspay%20practice.ipynb#X42sZmlsZQ%3D%3D?line=23'>24</a>\u001b[0m     path\u001b[39m.\u001b[39;49mappend(end)\n\u001b[0;32m     <a href='vscode-notebook-cell:/d%3A/leetcode-solution/Python/juspay%20practice.ipynb#X42sZmlsZQ%3D%3D?line=24'>25</a>\u001b[0m     \u001b[39mfor\u001b[39;00m neighbor, weight \u001b[39min\u001b[39;00m graph[end]\u001b[39m.\u001b[39mitems():\n\u001b[0;32m     <a href='vscode-notebook-cell:/d%3A/leetcode-solution/Python/juspay%20practice.ipynb#X42sZmlsZQ%3D%3D?line=25'>26</a>\u001b[0m         \u001b[39mif\u001b[39;00m distances[neighbor] \u001b[39m+\u001b[39m weight \u001b[39m==\u001b[39m distances[end]:\n",
      "\u001b[1;31mMemoryError\u001b[0m: "
     ]
    }
   ],
   "source": [
    "from collections import defaultdict\n",
    "\n",
    "def shortest_path(graph, start, end):\n",
    "    # Step 1: Initialize the distance dictionary\n",
    "    distances = defaultdict(lambda: float('inf'))\n",
    "    distances[start] = 0\n",
    "\n",
    "    # Step 2: Relax the edges repeatedly\n",
    "    for _ in range(len(graph) - 1):\n",
    "        for node in graph:\n",
    "            for neighbor, weight in graph[node].items():\n",
    "                if distances[node] + weight < distances[neighbor]:\n",
    "                    distances[neighbor] = distances[node] + weight\n",
    "\n",
    "    # Step 3: Check for negative cycles\n",
    "    for node in graph:\n",
    "        for neighbor, weight in graph[node].items():\n",
    "            if distances[node] + weight < distances[neighbor]:\n",
    "                raise ValueError(\"Graph contains a negative-weight cycle\")\n",
    "\n",
    "    # Step 4: Reconstruct the shortest path\n",
    "    path = []\n",
    "    while end != start:\n",
    "        path.append(end)\n",
    "        for neighbor, weight in graph[end].items():\n",
    "            if distances[neighbor] + weight == distances[end]:\n",
    "                end = neighbor\n",
    "                break\n",
    "    path.append(start)\n",
    "\n",
    "    # Reverse the path to get the correct order\n",
    "    path.reverse()\n",
    "\n",
    "    return path, distances[end]\n",
    "\n",
    "# Example usage:\n",
    "graph = {\n",
    "    'A': {'B': 5, 'C': 2},\n",
    "    'B': {'D': 4, 'E': 2},\n",
    "    'C': {'B': 1, 'D': 6},\n",
    "    'D': {'E': 1},\n",
    "    'E': {}\n",
    "}\n",
    "start_node = 'A'\n",
    "end_node = 'E'\n",
    "path, distance = shortest_path(graph, start_node, end_node)\n",
    "print(\"Shortest path:\", path)\n",
    "print(\"Distance:\", distance)\n"
   ]
  },
  {
   "attachments": {},
   "cell_type": "markdown",
   "metadata": {},
   "source": [
    "### Determine whether a graph is bipartite or not"
   ]
  },
  {
   "cell_type": "code",
   "execution_count": 3,
   "metadata": {},
   "outputs": [
    {
     "name": "stdout",
     "output_type": "stream",
     "text": [
      "The graph is bipartite\n"
     ]
    }
   ],
   "source": [
    "from collections import defaultdict\n",
    "\n",
    "def is_bipartite(graph):\n",
    "    colors = defaultdict(int)\n",
    "\n",
    "    def dfs(node, color):\n",
    "        colors[node] = color\n",
    "        for neighbor in graph[node]:\n",
    "            if colors[neighbor] == color:\n",
    "                return False\n",
    "            if colors[neighbor] == 0 and not dfs(neighbor, -color):\n",
    "                return False\n",
    "        return True\n",
    "\n",
    "    for node in graph:\n",
    "        if colors[node] == 0 and not dfs(node, 1):\n",
    "            return False\n",
    "\n",
    "    return True\n",
    "\n",
    "# Example usage:\n",
    "graph = {\n",
    "    1: [2, 3],\n",
    "    2: [1, 4],\n",
    "    3: [1, 4],\n",
    "    4: [2, 3]\n",
    "}\n",
    "\n",
    "if is_bipartite(graph):\n",
    "    print(\"The graph is bipartite\")\n",
    "else:\n",
    "    print(\"The graph is not bipartite\")\n"
   ]
  },
  {
   "attachments": {},
   "cell_type": "markdown",
   "metadata": {},
   "source": [
    "### Find the minimum spanning tree of a weighted graph."
   ]
  },
  {
   "cell_type": "code",
   "execution_count": 4,
   "metadata": {},
   "outputs": [
    {
     "name": "stdout",
     "output_type": "stream",
     "text": [
      "A -- C : 1\n",
      "C -- B : 2\n",
      "B -- D : 1\n"
     ]
    }
   ],
   "source": [
    "import heapq\n",
    "\n",
    "def find_minimum_spanning_tree(graph):\n",
    "    # Initialize variables\n",
    "    mst = []  # Minimum Spanning Tree\n",
    "    visited = set()  # Set of visited nodes\n",
    "    heap = []  # Heap to store edges\n",
    "\n",
    "    # Start with an arbitrary node\n",
    "    start_node = next(iter(graph))\n",
    "    visited.add(start_node)\n",
    "\n",
    "    # Add edges of the start node to the heap\n",
    "    for neighbor, weight in graph[start_node]:\n",
    "        heapq.heappush(heap, (weight, start_node, neighbor))\n",
    "\n",
    "    # Main loop\n",
    "    while heap:\n",
    "        weight, u, v = heapq.heappop(heap)\n",
    "        if v not in visited:\n",
    "            visited.add(v)\n",
    "            mst.append((u, v, weight))\n",
    "\n",
    "            # Add edges of the newly visited node to the heap\n",
    "            for neighbor, weight in graph[v]:\n",
    "                heapq.heappush(heap, (weight, v, neighbor))\n",
    "\n",
    "    return mst\n",
    "\n",
    "# Example usage:\n",
    "graph = {\n",
    "    'A': [('B', 5), ('C', 1)],\n",
    "    'B': [('A', 5), ('C', 2), ('D', 1)],\n",
    "    'C': [('A', 1), ('B', 2), ('D', 4)],\n",
    "    'D': [('B', 1), ('C', 4)]\n",
    "}\n",
    "\n",
    "minimum_spanning_tree = find_minimum_spanning_tree(graph)\n",
    "for u, v, weight in minimum_spanning_tree:\n",
    "    print(f\"{u} -- {v} : {weight}\")\n"
   ]
  },
  {
   "attachments": {},
   "cell_type": "markdown",
   "metadata": {},
   "source": [
    "### Detect cycles in a directed or undirected graph."
   ]
  },
  {
   "cell_type": "code",
   "execution_count": 5,
   "metadata": {},
   "outputs": [],
   "source": [
    "def has_cycle_directed(graph):\n",
    "    visited = set()\n",
    "    recursion_stack = set()\n",
    "\n",
    "    def dfs(node):\n",
    "        visited.add(node)\n",
    "        recursion_stack.add(node)\n",
    "\n",
    "        for neighbor in graph[node]:\n",
    "            if neighbor in recursion_stack:\n",
    "                return True\n",
    "            if neighbor not in visited and dfs(neighbor):\n",
    "                return True\n",
    "\n",
    "        recursion_stack.remove(node)\n",
    "        return False\n",
    "\n",
    "    for node in graph:\n",
    "        if node not in visited and dfs(node):\n",
    "            return True\n",
    "\n",
    "    return False\n"
   ]
  },
  {
   "cell_type": "code",
   "execution_count": 6,
   "metadata": {},
   "outputs": [],
   "source": [
    "def has_cycle_undirected(graph):\n",
    "    visited = set()\n",
    "\n",
    "    def dfs(node, parent):\n",
    "        visited.add(node)\n",
    "\n",
    "        for neighbor in graph[node]:\n",
    "            if neighbor not in visited:\n",
    "                if dfs(neighbor, node):\n",
    "                    return True\n",
    "            elif neighbor != parent:\n",
    "                return True\n",
    "\n",
    "        return False\n",
    "\n",
    "    for node in graph:\n",
    "        if node not in visited and dfs(node, None):\n",
    "            return True\n",
    "\n",
    "    return False\n"
   ]
  },
  {
   "cell_type": "code",
   "execution_count": 7,
   "metadata": {},
   "outputs": [
    {
     "name": "stdout",
     "output_type": "stream",
     "text": [
      "True\n",
      "True\n"
     ]
    }
   ],
   "source": [
    "directed_graph = {\n",
    "    'A': ['B', 'C'],\n",
    "    'B': ['C', 'D'],\n",
    "    'C': ['E'],\n",
    "    'D': [],\n",
    "    'E': ['B']\n",
    "}\n",
    "\n",
    "undirected_graph = {\n",
    "    'A': ['B', 'C'],\n",
    "    'B': ['A', 'C', 'D'],\n",
    "    'C': ['A', 'B', 'E'],\n",
    "    'D': ['B'],\n",
    "    'E': ['C']\n",
    "}\n",
    "\n",
    "print(has_cycle_directed(directed_graph))\n",
    "print(has_cycle_undirected(undirected_graph))\n"
   ]
  },
  {
   "attachments": {},
   "cell_type": "markdown",
   "metadata": {},
   "source": [
    "### Implement graph traversal algorithms like breadth-first search (BFS) or depth-first search (DFS)"
   ]
  },
  {
   "cell_type": "code",
   "execution_count": 8,
   "metadata": {},
   "outputs": [
    {
     "name": "stdout",
     "output_type": "stream",
     "text": [
      "BFS:\n",
      "A\n",
      "B\n",
      "C\n",
      "D\n",
      "E\n",
      "F\n",
      "DFS:\n",
      "A\n",
      "B\n",
      "D\n",
      "E\n",
      "F\n",
      "C\n"
     ]
    }
   ],
   "source": [
    "from collections import deque\n",
    "\n",
    "# Graph representation using adjacency list\n",
    "graph = {\n",
    "    'A': ['B', 'C'],\n",
    "    'B': ['A', 'D', 'E'],\n",
    "    'C': ['A', 'F'],\n",
    "    'D': ['B'],\n",
    "    'E': ['B', 'F'],\n",
    "    'F': ['C', 'E']\n",
    "}\n",
    "\n",
    "# Breadth-First Search (BFS)\n",
    "def bfs(graph, start):\n",
    "    visited = set()\n",
    "    queue = deque([start])\n",
    "\n",
    "    while queue:\n",
    "        node = queue.popleft()\n",
    "        if node not in visited:\n",
    "            print(node)\n",
    "            visited.add(node)\n",
    "            neighbors = graph[node]\n",
    "            queue.extend(neighbors)\n",
    "\n",
    "# Depth-First Search (DFS)\n",
    "def dfs(graph, start):\n",
    "    visited = set()\n",
    "\n",
    "    def dfs_util(node):\n",
    "        visited.add(node)\n",
    "        print(node)\n",
    "\n",
    "        for neighbor in graph[node]:\n",
    "            if neighbor not in visited:\n",
    "                dfs_util(neighbor)\n",
    "\n",
    "    dfs_util(start)\n",
    "\n",
    "# Example usage\n",
    "print(\"BFS:\")\n",
    "bfs(graph, 'A')\n",
    "print(\"DFS:\")\n",
    "dfs(graph, 'A')\n"
   ]
  },
  {
   "cell_type": "code",
   "execution_count": null,
   "metadata": {},
   "outputs": [],
   "source": []
  }
 ],
 "metadata": {
  "kernelspec": {
   "display_name": "Python 3",
   "language": "python",
   "name": "python3"
  },
  "language_info": {
   "codemirror_mode": {
    "name": "ipython",
    "version": 3
   },
   "file_extension": ".py",
   "mimetype": "text/x-python",
   "name": "python",
   "nbconvert_exporter": "python",
   "pygments_lexer": "ipython3",
   "version": "3.10.8"
  },
  "orig_nbformat": 4
 },
 "nbformat": 4,
 "nbformat_minor": 2
}
