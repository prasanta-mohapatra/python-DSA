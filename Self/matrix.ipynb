{
 "cells": [
  {
   "attachments": {},
   "cell_type": "markdown",
   "metadata": {},
   "source": [
    "### Matrix\n",
    "Matrix is a special case of two dimensional array where each data element is of strictly same size. So every matrix is also a two dimensional array but not vice versa. Matrices are very important data structures for many mathematical and scientific calculations.\n",
    "- We also be using the numpy package for matrix data manipulation."
   ]
  },
  {
   "attachments": {},
   "cell_type": "markdown",
   "metadata": {},
   "source": [
    "#### Matrix Example\n",
    "Consider the case of recording temprature for 1 week measured in the morning, mid-day, evening and mid-night. It can be presented as a 7X5 matrix using an array and the reshape method available in numpy"
   ]
  },
  {
   "cell_type": "code",
   "execution_count": 3,
   "metadata": {},
   "outputs": [
    {
     "name": "stdout",
     "output_type": "stream",
     "text": [
      "[['Mon' '18' '20' '22' '17']\n",
      " ['Tue' '11' '18' '21' '18']\n",
      " ['Wed' '15' '21' '20' '19']\n",
      " ['Thu' '11' '20' '22' '21']\n",
      " ['Fri' '18' '17' '23' '22']\n",
      " ['Sat' '12' '22' '20' '18']\n",
      " ['Sun' '13' '15' '19' '16']]\n"
     ]
    }
   ],
   "source": [
    "\"\"\"\n",
    "[['Mon' '18' '20' '22' '17']\n",
    " ['Tue' '11' '18' '21' '18']\n",
    " ['Wed' '15' '21' '20' '19']\n",
    " ['Thu' '11' '20' '22' '21']\n",
    " ['Fri' '18' '17' '23' '22']\n",
    " ['Sat' '12' '22' '20' '18']\n",
    " ['Sun' '13' '15' '19' '16']]\n",
    " \"\"\"\n",
    "\n",
    "import numpy as np\n",
    "a = np.array(\n",
    "    [\n",
    "        ['Mon',18,20,22,17],\n",
    "        ['Tue',11,18,21,18],\n",
    "        ['Wed',15,21,20,19],\n",
    "        ['Thu',11,20,22,21],\n",
    "        ['Fri',18,17,23,22],\n",
    "        ['Sat',12,22,20,18],\n",
    "        ['Sun',13,15,19,16]\n",
    "    ])\n",
    "m = np.reshape(a,(7,5))\n",
    "print(m)"
   ]
  },
  {
   "attachments": {},
   "cell_type": "markdown",
   "metadata": {},
   "source": [
    "#### Accessing Values\n",
    "The data elements in a matrix can be accessed by using the indexes. The access method is same as the way data is accessed in Two dimensional array."
   ]
  },
  {
   "cell_type": "code",
   "execution_count": 7,
   "metadata": {},
   "outputs": [
    {
     "name": "stdout",
     "output_type": "stream",
     "text": [
      "['Wed' '15' '21' '20' '19']\n",
      "23\n",
      "23\n"
     ]
    }
   ],
   "source": [
    "# Print data for Wednesday\n",
    "print(m[2]) # ['Wed' '15' '21' '20' '19']\n",
    "\n",
    "# Print data for friday evening\n",
    "print(m[4][3]) # 23\n",
    "\n",
    "# or\n",
    "print(m[4,3]) # 23"
   ]
  },
  {
   "attachments": {},
   "cell_type": "markdown",
   "metadata": {},
   "source": [
    "#### Adding a row\n",
    "Use the below mentioned code to add a row in a matrix"
   ]
  },
  {
   "cell_type": "code",
   "execution_count": 9,
   "metadata": {},
   "outputs": [
    {
     "name": "stdout",
     "output_type": "stream",
     "text": [
      "[['Mon' '18' '20' '22' '17']\n",
      " ['Tue' '11' '18' '21' '18']\n",
      " ['Wed' '15' '21' '20' '19']\n",
      " ['Thu' '11' '20' '22' '21']\n",
      " ['Fri' '18' '17' '23' '22']\n",
      " ['Sat' '12' '22' '20' '18']\n",
      " ['Sun' '13' '15' '19' '16']\n",
      " ['Avg' '12' '15' '13' '11']]\n"
     ]
    }
   ],
   "source": [
    "m_r = np.append(m,[['Avg',12,15,13,11]],0)\n",
    "\n",
    "\"\"\"\n",
    "[['Mon' '18' '20' '22' '17']\n",
    " ['Tue' '11' '18' '21' '18']\n",
    " ['Wed' '15' '21' '20' '19']\n",
    " ['Thu' '11' '20' '22' '21']\n",
    " ['Fri' '18' '17' '23' '22']\n",
    " ['Sat' '12' '22' '20' '18']\n",
    " ['Sun' '13' '15' '19' '16']\n",
    " ['Avg' '12' '15' '13' '11']]\n",
    " \"\"\"\n",
    "print(m_r)"
   ]
  },
  {
   "attachments": {},
   "cell_type": "markdown",
   "metadata": {},
   "source": [
    "#### Adding a column\n",
    "We can add column to a matrix using the insert() method. here we have to mention the index where we want to add the column and a array containing the new values of the columns added.In the below example we add t a new column at the fifth position from the beginning."
   ]
  },
  {
   "cell_type": "code",
   "execution_count": 11,
   "metadata": {},
   "outputs": [
    {
     "name": "stdout",
     "output_type": "stream",
     "text": [
      "[['Mon' '18' '20' '22' '17' '1']\n",
      " ['Tue' '11' '18' '21' '18' '2']\n",
      " ['Wed' '15' '21' '20' '19' '3']\n",
      " ['Thu' '11' '20' '22' '21' '4']\n",
      " ['Fri' '18' '17' '23' '22' '5']\n",
      " ['Sat' '12' '22' '20' '18' '6']\n",
      " ['Sun' '13' '15' '19' '16' '7']]\n"
     ]
    }
   ],
   "source": [
    "m_c = np.insert(m,[5],[[1],[2],[3],[4],[5],[6],[7]],1)\n",
    "\"\"\"\n",
    "[['Mon' '18' '20' '22' '17' '1']\n",
    " ['Tue' '11' '18' '21' '18' '2']\n",
    " ['Wed' '15' '21' '20' '19' '3']\n",
    " ['Thu' '11' '20' '22' '21' '4']\n",
    " ['Fri' '18' '17' '23' '22' '5']\n",
    " ['Sat' '12' '22' '20' '18' '6']\n",
    " ['Sun' '13' '15' '19' '16' '7']]\n",
    " \"\"\"\n",
    "print(m_c)"
   ]
  },
  {
   "attachments": {},
   "cell_type": "markdown",
   "metadata": {},
   "source": [
    "#### Delete a row\n",
    "We can delete a row from a matrix using the delete() method. We have to specify the index of the row and also the axis value which is 0 for a row and 1 for a column."
   ]
  },
  {
   "cell_type": "code",
   "execution_count": 13,
   "metadata": {},
   "outputs": [
    {
     "name": "stdout",
     "output_type": "stream",
     "text": [
      "[['Mon' '18' '20' '22' '17']\n",
      " ['Tue' '11' '18' '21' '18']\n",
      " ['Fri' '18' '17' '23' '22']\n",
      " ['Sat' '12' '22' '20' '18']\n",
      " ['Sun' '13' '15' '19' '16']]\n"
     ]
    }
   ],
   "source": [
    "m = np.delete(m,[2],0)\n",
    "\"\"\"\n",
    "[['Mon' '18' '20' '22' '17']\n",
    " ['Tue' '11' '18' '21' '18']\n",
    " ['Thu' '11' '20' '22' '21']\n",
    " ['Fri' '18' '17' '23' '22']\n",
    " ['Sat' '12' '22' '20' '18']\n",
    " ['Sun' '13' '15' '19' '16']]\n",
    " \"\"\"\n",
    "print(m)"
   ]
  },
  {
   "attachments": {},
   "cell_type": "markdown",
   "metadata": {},
   "source": [
    "#### Delete a column\n",
    "We can delete a column from a matrix using the delete() method. We have to specify the index of the column and also the axis value which is 0 for a row and 1 for a column."
   ]
  },
  {
   "cell_type": "code",
   "execution_count": 16,
   "metadata": {},
   "outputs": [
    {
     "name": "stdout",
     "output_type": "stream",
     "text": [
      "[['Mon' '18' '17']\n",
      " ['Tue' '11' '18']\n",
      " ['Fri' '18' '22']\n",
      " ['Sat' '12' '18']\n",
      " ['Sun' '13' '16']]\n"
     ]
    }
   ],
   "source": [
    "m = np.delete(m,[2],1)\n",
    "\"\"\"\n",
    "[['Mon' '18' '22' '17']\n",
    " ['Tue' '11' '21' '18']\n",
    " ['Fri' '18' '23' '22']\n",
    " ['Sat' '12' '20' '18']\n",
    " ['Sun' '13' '19' '16']]\n",
    " \"\"\"\n",
    "print(m)"
   ]
  },
  {
   "attachments": {},
   "cell_type": "markdown",
   "metadata": {},
   "source": [
    "#### Update a row\n",
    "To update the values in the row of a matrix we simply re-assign the values at the index of the row. In the below example all the values for thrusday's data is marked as zero. The index for this row is 3."
   ]
  },
  {
   "cell_type": "code",
   "execution_count": 21,
   "metadata": {},
   "outputs": [
    {
     "name": "stdout",
     "output_type": "stream",
     "text": [
      "[['Mon' '18' '17']\n",
      " ['Tue' '11' '18']\n",
      " ['Fri' '18' '22']\n",
      " ['Thu' '0' '0']\n",
      " ['Sun' '13' '16']]\n"
     ]
    }
   ],
   "source": [
    "m[3] = ['Thu',0,0]\n",
    "\n",
    "\"\"\"\n",
    "[['Mon' '18' '17']\n",
    " ['Tue' '11' '18']\n",
    " ['Fri' '18' '22']\n",
    " ['Thu' '0' '0']\n",
    " ['Sun' '13' '16']]\n",
    " \"\"\"\n",
    "\n",
    "print(m)"
   ]
  },
  {
   "cell_type": "code",
   "execution_count": null,
   "metadata": {},
   "outputs": [],
   "source": []
  }
 ],
 "metadata": {
  "kernelspec": {
   "display_name": "Python 3",
   "language": "python",
   "name": "python3"
  },
  "language_info": {
   "codemirror_mode": {
    "name": "ipython",
    "version": 3
   },
   "file_extension": ".py",
   "mimetype": "text/x-python",
   "name": "python",
   "nbconvert_exporter": "python",
   "pygments_lexer": "ipython3",
   "version": "3.10.8"
  },
  "orig_nbformat": 4
 },
 "nbformat": 4,
 "nbformat_minor": 2
}
