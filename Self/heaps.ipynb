{
 "cells": [
  {
   "attachments": {},
   "cell_type": "markdown",
   "metadata": {},
   "source": [
    "### Heaps\n",
    "Heap is a special tree structure in which each parent node is less than or equal to its child node. Then it is called a Min Heap. If each parent node is greater than or equal to its child node then it is called a max heap. It is very useful is implementing priority queues where the queue item with higher weightage is given more priority in processing.\n",
    "\n",
    "A detailed discussion on heaps is available in our website here. Please study it first if you are new to heap data structure. In this chapter we will see the implementation of heap data structure using python."
   ]
  },
  {
   "attachments": {},
   "cell_type": "markdown",
   "metadata": {},
   "source": [
    "#### Create a Heap\n",
    "A heap is created by using python’s inbuilt library named heapq. This library has the relevant functions to carry out various operations on heap data structure. Below is a list of these functions.\n",
    "\n",
    "1. heapify − This function converts a regular list to a heap. In the resulting heap the smallest element gets pushed to the index position 0. But rest of the data elements are not necessarily sorted.\n",
    "\n",
    "2. heappush − This function adds an element to the heap without altering the current heap.\n",
    "\n",
    "3. heappop − This function returns the smallest data element from the heap.\n",
    "\n",
    "4. heapreplace − This function replaces the smallest data element with a new value supplied in the function."
   ]
  },
  {
   "attachments": {},
   "cell_type": "markdown",
   "metadata": {},
   "source": [
    "#### Creating a Heap\n",
    "A heap is created by simply using a list of elements with the heapify function. In the below example we supply a list of elements and the heapify function rearranges the elements bringing the smallest element to the first position."
   ]
  },
  {
   "cell_type": "code",
   "execution_count": 1,
   "metadata": {},
   "outputs": [
    {
     "name": "stdout",
     "output_type": "stream",
     "text": [
      "[1, 3, 5, 78, 21, 45]\n"
     ]
    }
   ],
   "source": [
    "import heapq\n",
    "\n",
    "H = [21,1,45,78,3,5]\n",
    "# Use heapify to rearrange the elements\n",
    "heapq.heapify(H)\n",
    "print(H)"
   ]
  },
  {
   "attachments": {},
   "cell_type": "markdown",
   "metadata": {},
   "source": [
    "#### Inserting into heap\n",
    "Inserting a data element to a heap always adds the element at the last index. But you can apply heapify function again to bring the newly added element to the first index only if it smallest in value. In the below example we insert the number 8."
   ]
  },
  {
   "cell_type": "code",
   "execution_count": 2,
   "metadata": {},
   "outputs": [
    {
     "name": "stdout",
     "output_type": "stream",
     "text": [
      "[1, 3, 5, 78, 21, 45]\n",
      "[1, 3, 5, 78, 21, 45, 8]\n"
     ]
    }
   ],
   "source": [
    "import heapq\n",
    "\n",
    "H = [21,1,45,78,3,5]\n",
    "# Covert to a heap\n",
    "heapq.heapify(H)\n",
    "print(H)\n",
    "\n",
    "# Add element\n",
    "heapq.heappush(H,8)\n",
    "print(H)"
   ]
  },
  {
   "attachments": {},
   "cell_type": "markdown",
   "metadata": {},
   "source": [
    "#### Removing from heap\n",
    "You can remove the element at first index by using this function. In the below example the function will always remove the element at the index position 1."
   ]
  },
  {
   "cell_type": "code",
   "execution_count": 3,
   "metadata": {},
   "outputs": [
    {
     "name": "stdout",
     "output_type": "stream",
     "text": [
      "[1, 3, 5, 78, 21, 45]\n",
      "[3, 21, 5, 78, 45]\n"
     ]
    }
   ],
   "source": [
    "import heapq\n",
    "\n",
    "H = [21,1,45,78,3,5]\n",
    "# Create the heap\n",
    "\n",
    "heapq.heapify(H)\n",
    "print(H)\n",
    "\n",
    "# Remove element from the heap\n",
    "heapq.heappop(H)\n",
    "\n",
    "print(H)"
   ]
  },
  {
   "attachments": {},
   "cell_type": "markdown",
   "metadata": {},
   "source": [
    "#### Replacing in a Heap\n",
    "The heap replace function always removes the smallest element of the heap and inserts the new incoming element at some place not fixed by any order."
   ]
  },
  {
   "cell_type": "code",
   "execution_count": 4,
   "metadata": {},
   "outputs": [
    {
     "name": "stdout",
     "output_type": "stream",
     "text": [
      "[1, 3, 5, 78, 21, 45]\n",
      "[3, 6, 5, 78, 21, 45]\n"
     ]
    }
   ],
   "source": [
    "import heapq\n",
    "\n",
    "H = [21,1,45,78,3,5]\n",
    "# Create the heap\n",
    "\n",
    "heapq.heapify(H)\n",
    "print(H)\n",
    "\n",
    "# Replace an element\n",
    "heapq.heapreplace(H,6)\n",
    "print(H)"
   ]
  },
  {
   "cell_type": "code",
   "execution_count": null,
   "metadata": {},
   "outputs": [],
   "source": []
  }
 ],
 "metadata": {
  "kernelspec": {
   "display_name": "Python 3",
   "language": "python",
   "name": "python3"
  },
  "language_info": {
   "codemirror_mode": {
    "name": "ipython",
    "version": 3
   },
   "file_extension": ".py",
   "mimetype": "text/x-python",
   "name": "python",
   "nbconvert_exporter": "python",
   "pygments_lexer": "ipython3",
   "version": "3.10.8"
  },
  "orig_nbformat": 4
 },
 "nbformat": 4,
 "nbformat_minor": 2
}
