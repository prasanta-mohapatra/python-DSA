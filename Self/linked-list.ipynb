{
 "cells": [
  {
   "attachments": {},
   "cell_type": "markdown",
   "metadata": {},
   "source": [
    "### Linked list\n",
    "A linked list is a sequence of data elements, which are connected together via links. Each data element contains a connection to another data element in form of a pointer. Python does not have linked lists in its standard library. We implement the concept of linked lists using the concept of nodes.\n",
    "\n",
    "We have already seen how we create a node class and how to traverse the elements of a node. Here to study the types of linked lists known as singly linked lists. In this type of data structure there is only one link between any two data elements. We create such a list and create additional methods to insert, update and remove elements from the list."
   ]
  },
  {
   "attachments": {},
   "cell_type": "markdown",
   "metadata": {},
   "source": [
    "#### Creation of Linked list\n",
    "A linked list is created by using the node class we studied in the last chapter. We create a Node object and create another class to use this ode object. We pass the appropriate values through the node object to point the to the next data elements. The below program creates the linked list with three data elements. In the next section we will see how to traverse the linked list."
   ]
  },
  {
   "cell_type": "code",
   "execution_count": 4,
   "metadata": {},
   "outputs": [],
   "source": [
    "class Node:\n",
    "    def __init__(self, data=None):\n",
    "        self.data = data\n",
    "        self.next = None\n",
    "\n",
    "class SLinkedList:\n",
    "    def __init__(self):\n",
    "        self.head = None\n",
    "\n",
    "list1 = SLinkedList()\n",
    "list1.head = Node(\"Mon\")\n",
    "e2 = Node(\"Tue\")\n",
    "e3 = Node(\"Wed\")\n",
    "# Link first Node to second node\n",
    "list1.head.next = e2\n",
    "\n",
    "# Link second Node to third node\n",
    "e2.next = e3"
   ]
  },
  {
   "attachments": {},
   "cell_type": "markdown",
   "metadata": {},
   "source": [
    "#### Traversing a Linked List\n",
    "Singly linked lists can be traversed in only forward direction starting form the first data element. We simply print the value of the next data element by assigning the pointer of the next node to the current data element."
   ]
  },
  {
   "cell_type": "code",
   "execution_count": 8,
   "metadata": {},
   "outputs": [
    {
     "name": "stdout",
     "output_type": "stream",
     "text": [
      "Mon\n",
      "Tue\n",
      "Wed\n",
      "Thu\n"
     ]
    }
   ],
   "source": [
    "class Node:\n",
    "    def __init__(self, data=None):\n",
    "        self.data = data\n",
    "        self.next = None\n",
    "\n",
    "class SLinkedList:\n",
    "    def __init__(self):\n",
    "        self.head = None\n",
    "\n",
    "    def listprint(self):\n",
    "        printval = self.head\n",
    "        while printval is not None:\n",
    "            print(printval.data)\n",
    "            printval = printval.next\n",
    "\n",
    "list = SLinkedList()\n",
    "list.head = Node(\"Mon\")\n",
    "e2 = Node(\"Tue\")\n",
    "e3 = Node(\"Wed\")\n",
    "e4 = Node(\"Thu\")\n",
    "\n",
    "# Link first Node to second node\n",
    "list.head.next = e2\n",
    "\n",
    "# Link second Node to third node\n",
    "e2.next = e3\n",
    "\n",
    "# Link third Node to fourth node\n",
    "e3.next = e4\n",
    "\n",
    "\"\"\"\n",
    "Mon\n",
    "Tue\n",
    "Wed\n",
    "Thu\n",
    "\"\"\"\n",
    "list.listprint()"
   ]
  },
  {
   "attachments": {},
   "cell_type": "markdown",
   "metadata": {},
   "source": [
    "#### Insertion in a Linked List\n",
    "Inserting element in the linked list involves reassigning the pointers from the existing nodes to the newly inserted node. Depending on whether the new data element is getting inserted at the beginning or at the middle or at the end of the linked list, we have the below scenarios.\n",
    "\n",
    "1. Inserting at the Beginning\n",
    "This involves pointing the next pointer of the new data node to the current head of the linked list. So the current head of the linked list becomes the second data element and the new node becomes the head of the linked list."
   ]
  },
  {
   "cell_type": "code",
   "execution_count": 14,
   "metadata": {},
   "outputs": [
    {
     "name": "stdout",
     "output_type": "stream",
     "text": [
      "Sun\n",
      "Mon\n",
      "Tue\n",
      "Wed\n"
     ]
    }
   ],
   "source": [
    "class SLinkedList:\n",
    "    def __init__(self):\n",
    "        self.head = None\n",
    "\n",
    "    # Print the linked list\n",
    "    def listprint(self):\n",
    "        printval = self.head\n",
    "        while printval is not None:\n",
    "            print (printval.data)\n",
    "            printval = printval.next\n",
    "\n",
    "    def AtBegining(self, newdata):\n",
    "        NewNode = Node(newdata)\n",
    "        # Update the new nodes next val to existing node\n",
    "        NewNode.next = self.head\n",
    "        self.head = NewNode\n",
    "\n",
    "list = SLinkedList()\n",
    "list.head = Node(\"Mon\")\n",
    "e2 = Node(\"Tue\")\n",
    "e3 = Node(\"Wed\")\n",
    "\n",
    "list.head.next = e2\n",
    "e2.next = e3\n",
    "\n",
    "list.AtBegining(\"Sun\")\n",
    "\"\"\"\n",
    "Sun\n",
    "Mon\n",
    "Tue\n",
    "Wed\n",
    "\"\"\"\n",
    "list.listprint()"
   ]
  },
  {
   "attachments": {},
   "cell_type": "markdown",
   "metadata": {},
   "source": [
    "2. Inserting at the End\n",
    "This involves pointing the next pointer of the the current last node of the linked list to the new data node. So the current last node of the linked list becomes the second last data node and the new node becomes the last node of the linked list."
   ]
  },
  {
   "cell_type": "code",
   "execution_count": 19,
   "metadata": {},
   "outputs": [
    {
     "name": "stdout",
     "output_type": "stream",
     "text": [
      "Sun\n",
      "Mon\n",
      "Tue\n",
      "Wed\n",
      "Sat\n"
     ]
    }
   ],
   "source": [
    "class SLinkedList:\n",
    "    def __init__(self):\n",
    "        self.head = None\n",
    "\n",
    "    # Print the linked list\n",
    "    def listprint(self):\n",
    "        printval = self.head\n",
    "        while printval is not None:\n",
    "            print (printval.data)\n",
    "            printval = printval.next\n",
    "\n",
    "    def AtBegining(self, newdata):\n",
    "        NewNode = Node(newdata)\n",
    "        # Update the new nodes next val to existing node\n",
    "        NewNode.next = self.head\n",
    "        self.head = NewNode\n",
    "\n",
    "    def AtEnd(self, newdata):\n",
    "        NewNode = Node(newdata)\n",
    "        if self.head is None:\n",
    "            self.head = NewNode\n",
    "            return\n",
    "        laste = self.head\n",
    "        while laste.next:\n",
    "            laste = laste.next\n",
    "        # Update the new nodes next val to existing node\n",
    "        laste.next = NewNode\n",
    "\n",
    "list = SLinkedList()\n",
    "list.head = Node(\"Mon\")\n",
    "e2 = Node(\"Tue\")\n",
    "e3 = Node(\"Wed\")\n",
    "\n",
    "list.head.next = e2\n",
    "e2.next = e3\n",
    "\n",
    "list.AtBegining(\"Sun\")\n",
    "list.AtEnd(\"Sat\")\n",
    "\"\"\"\n",
    "Sun\n",
    "Mon\n",
    "Tue\n",
    "Wed\n",
    "Sat\n",
    "\"\"\"\n",
    "list.listprint()"
   ]
  },
  {
   "attachments": {},
   "cell_type": "markdown",
   "metadata": {},
   "source": [
    "3. Inserting in between two Data Nodes\n",
    "This involves changing the pointer of a specific node to point to the new node. That is possible by passing in both the new node and the existing node after which the new node will be inserted. So we define an additional class which will change the next pointer of the new node to the next pointer of middle node. Then assign the new node to next pointer of the middle node"
   ]
  },
  {
   "cell_type": "code",
   "execution_count": 27,
   "metadata": {},
   "outputs": [
    {
     "name": "stdout",
     "output_type": "stream",
     "text": [
      "Sun\n",
      "Mon\n",
      "Tue\n",
      "Thu\n",
      "Wed\n",
      "Sat\n"
     ]
    }
   ],
   "source": [
    "class SLinkedList:\n",
    "    def __init__(self):\n",
    "        self.head = None\n",
    "\n",
    "    # Print the linked list\n",
    "    def listprint(self):\n",
    "        printval = self.head\n",
    "        while printval is not None:\n",
    "            print (printval.data)\n",
    "            printval = printval.next\n",
    "\n",
    "    def AtBegining(self, newdata):\n",
    "        NewNode = Node(newdata)\n",
    "        # Update the new nodes next val to existing node\n",
    "        NewNode.next = self.head\n",
    "        self.head = NewNode\n",
    "\n",
    "    def AtEnd(self, newdata):\n",
    "        NewNode = Node(newdata)\n",
    "        if self.head is None:\n",
    "            self.head = NewNode\n",
    "            return\n",
    "        laste = self.head\n",
    "        while laste.next:\n",
    "            laste = laste.next\n",
    "        # Update the new nodes next val to existing node\n",
    "        laste.next = NewNode\n",
    "\n",
    "    def InBetween(self, middle_node, newdata):\n",
    "        if middle_node is None:\n",
    "            print(\"The mentioned node is absent\")\n",
    "            return\n",
    "\n",
    "        NewNode = Node(newdata)\n",
    "        NewNode.next = middle_node.next\n",
    "        middle_node.next = NewNode\n",
    "\n",
    "\n",
    "list = SLinkedList()\n",
    "list.head = Node(\"Mon\")\n",
    "e2 = Node(\"Tue\")\n",
    "e3 = Node(\"Wed\")\n",
    "\n",
    "list.head.next = e2\n",
    "e2.next = e3\n",
    "\n",
    "list.InBetween(list.head.next,\"Thu\")\n",
    "list.AtBegining(\"Sun\")\n",
    "list.AtEnd(\"Sat\")\n",
    "\"\"\"\n",
    "Sun\n",
    "Mon\n",
    "Tue\n",
    "Thu\n",
    "Wed\n",
    "Sat\n",
    "\"\"\"\n",
    "list.listprint()"
   ]
  },
  {
   "attachments": {},
   "cell_type": "markdown",
   "metadata": {},
   "source": [
    "#### Removing an Item\n",
    "We can remove an existing node using the key for that node. In the below program we locate the previous node of the node which is to be deleted.Then, point the next pointer of this node to the next node of the node to be deleted."
   ]
  },
  {
   "cell_type": "code",
   "execution_count": 31,
   "metadata": {},
   "outputs": [
    {
     "name": "stdout",
     "output_type": "stream",
     "text": [
      "Thu\n",
      "Wed\n",
      "Mon\n"
     ]
    }
   ],
   "source": [
    "class Node:\n",
    "    def __init__(self, data=None):\n",
    "        self.data = data\n",
    "        self.next = None\n",
    "class SLinkedList:\n",
    "    def __init__(self):\n",
    "        self.head = None\n",
    "\n",
    "    def Atbegining(self, data_in):\n",
    "        NewNode = Node(data_in)\n",
    "        NewNode.next = self.head\n",
    "        self.head = NewNode\n",
    "\n",
    "    def RemoveNode(self, Removekey):\n",
    "        HeadVal = self.head\n",
    "            \n",
    "        if (HeadVal is not None):\n",
    "            if (HeadVal.data == Removekey):\n",
    "                self.head = HeadVal.next\n",
    "                HeadVal = None\n",
    "                return\n",
    "        while (HeadVal is not None):\n",
    "            if HeadVal.data == Removekey:\n",
    "                break\n",
    "            prev = HeadVal\n",
    "            HeadVal = HeadVal.next\n",
    "\n",
    "        if (HeadVal == None):\n",
    "            return\n",
    "\n",
    "        prev.next = HeadVal.next\n",
    "        HeadVal = None\n",
    "\n",
    "    def LListprint(self):\n",
    "        printval = self.head\n",
    "        while (printval):\n",
    "            print(printval.data),\n",
    "            printval = printval.next\n",
    "\n",
    "llist = SLinkedList()\n",
    "llist.Atbegining(\"Mon\")\n",
    "llist.Atbegining(\"Tue\")\n",
    "llist.Atbegining(\"Wed\")\n",
    "llist.Atbegining(\"Thu\")\n",
    "llist.RemoveNode(\"Tue\")\n",
    "llist.LListprint()"
   ]
  },
  {
   "cell_type": "code",
   "execution_count": 21,
   "metadata": {},
   "outputs": [
    {
     "name": "stdout",
     "output_type": "stream",
     "text": [
      "Sun\n",
      "Mon\n",
      "Wed\n",
      "Fri\n"
     ]
    }
   ],
   "source": [
    "class Node:\n",
    "    def __init__(self, data=None):\n",
    "        self.data = data\n",
    "        self.next = None\n",
    "class LinkedList:\n",
    "    def __init__(self) -> None:\n",
    "        self.head = None\n",
    "\n",
    "    def traverse(self):\n",
    "        printval = self.head\n",
    "        while printval is not None:\n",
    "            print(printval.data)\n",
    "            printval = printval.next\n",
    "\n",
    "    def at_begin(self, data):\n",
    "        value = Node(data)\n",
    "        nextval = self.head\n",
    "        self.head = value\n",
    "        self.head.next = nextval\n",
    "\n",
    "    def at_end(self, data):\n",
    "        value = Node(data)\n",
    "        while self.head is None:\n",
    "            self.head = value\n",
    "\n",
    "        laste = self.head\n",
    "        while laste.next:\n",
    "            laste = laste.next\n",
    "        laste.next = value\n",
    "\n",
    "    def in_between(self,mid_node, data):\n",
    "        value = Node(data)\n",
    "        if mid_node is None:\n",
    "            print(\"Mid Node not found\")\n",
    "            return\n",
    "        value.next = mid_node.next\n",
    "        mid_node.next = value\n",
    "\n",
    "    def remove_item(self,ex_node):\n",
    "        if self.head is not None and self.head.data == ex_node:\n",
    "            self.head = self.head.next\n",
    "            return\n",
    "        prev = None\n",
    "        current = self.head\n",
    "        while current is not None:\n",
    "            if current.data == ex_node:\n",
    "                if prev is not None:\n",
    "                    prev.next = current.next\n",
    "                current = None\n",
    "                break\n",
    "            prev = current\n",
    "            current = current.next\n",
    "\n",
    "        \n",
    "        \n",
    "\n",
    "llist1 = LinkedList()\n",
    "n1 = Node('Mon')\n",
    "n2 = Node('Tue')\n",
    "n3 = Node('Wed')\n",
    "llist1.head = n1\n",
    "llist1.head.next = n2\n",
    "n2.next = n3\n",
    "llist1.at_begin('Sun')\n",
    "llist1.at_end('Fri')\n",
    "\n",
    "llist1.remove_item('Tue')\n",
    "\n",
    "llist1.traverse()\n",
    "\n"
   ]
  },
  {
   "cell_type": "code",
   "execution_count": null,
   "metadata": {},
   "outputs": [],
   "source": []
  }
 ],
 "metadata": {
  "kernelspec": {
   "display_name": "Python 3",
   "language": "python",
   "name": "python3"
  },
  "language_info": {
   "codemirror_mode": {
    "name": "ipython",
    "version": 3
   },
   "file_extension": ".py",
   "mimetype": "text/x-python",
   "name": "python",
   "nbconvert_exporter": "python",
   "pygments_lexer": "ipython3",
   "version": "3.10.8"
  },
  "orig_nbformat": 4
 },
 "nbformat": 4,
 "nbformat_minor": 2
}
