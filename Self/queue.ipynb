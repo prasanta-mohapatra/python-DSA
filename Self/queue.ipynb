{
 "cells": [
  {
   "attachments": {},
   "cell_type": "markdown",
   "metadata": {},
   "source": [
    "### Queue\n",
    "We are familiar with queue in our day to day life as we wait for a service. The queue data structure aslo means the same where the data elements are arranged in a queue. The uniqueness of queue lies in the way items are added and removed. The items are allowed at on end but removed form the other end. So it is a First-in-First out method.\n",
    "\n",
    "A queue can be implemented using python list where we can use the insert() and pop() methods to add and remove elements. Their is no insertion as data elements are always added at the end of the queue."
   ]
  },
  {
   "attachments": {},
   "cell_type": "markdown",
   "metadata": {},
   "source": [
    "#### Initialise a queue"
   ]
  },
  {
   "cell_type": "code",
   "execution_count": 2,
   "metadata": {},
   "outputs": [],
   "source": [
    "class Queue:\n",
    "    def __init__(self) -> None:\n",
    "        self.data = []\n",
    "    \n",
    "    def first(self):\n",
    "        if self.data:\n",
    "            return self.data[0]\n",
    "        return\n",
    "\n",
    "queue = Queue()"
   ]
  },
  {
   "attachments": {},
   "cell_type": "markdown",
   "metadata": {},
   "source": [
    "#### Adding Elements\n",
    "In the below example we create a queue class where we implement the First-in-First-Out method. We use the in-built insert method for adding data elements."
   ]
  },
  {
   "cell_type": "code",
   "execution_count": 5,
   "metadata": {},
   "outputs": [
    {
     "name": "stdout",
     "output_type": "stream",
     "text": [
      "Prasanta\n"
     ]
    }
   ],
   "source": [
    "class Queue:\n",
    "    def __init__(self) -> None:\n",
    "        self.data = []\n",
    "    \n",
    "    def first(self):\n",
    "        if self.data:\n",
    "            return self.data[0]\n",
    "        return\n",
    "    \n",
    "    def add(self, element):\n",
    "        self.data.append(element)\n",
    "\n",
    "queue = Queue()\n",
    "queue.add(\"Prasanta\")\n",
    "queue.add(\"Kumar\")\n",
    "print(queue.first()) # Prasanta"
   ]
  },
  {
   "attachments": {},
   "cell_type": "markdown",
   "metadata": {},
   "source": [
    "#### Removing Element\n",
    "In the below example we create a queue class where we insert the data and then remove the data using the in-built pop method."
   ]
  },
  {
   "cell_type": "code",
   "execution_count": 6,
   "metadata": {},
   "outputs": [
    {
     "name": "stdout",
     "output_type": "stream",
     "text": [
      "Prasanta\n",
      "Kumar\n"
     ]
    }
   ],
   "source": [
    "class Queue:\n",
    "    def __init__(self) -> None:\n",
    "        self.data = []\n",
    "    \n",
    "    def first(self):\n",
    "        if self.data:\n",
    "            return self.data[0]\n",
    "        return\n",
    "    \n",
    "    def add(self, element):\n",
    "        self.data.append(element)\n",
    "\n",
    "    def remove(self):\n",
    "        if self.data:\n",
    "            return self.data.pop(0)\n",
    "        return\n",
    "\n",
    "queue = Queue()\n",
    "queue.add(\"Prasanta\")\n",
    "queue.add(\"Kumar\")\n",
    "print(queue.first()) # Prasanta\n",
    "queue.remove()\n",
    "print(queue.first()) # Kumar"
   ]
  },
  {
   "cell_type": "code",
   "execution_count": null,
   "metadata": {},
   "outputs": [],
   "source": []
  }
 ],
 "metadata": {
  "kernelspec": {
   "display_name": "Python 3",
   "language": "python",
   "name": "python3"
  },
  "language_info": {
   "codemirror_mode": {
    "name": "ipython",
    "version": 3
   },
   "file_extension": ".py",
   "mimetype": "text/x-python",
   "name": "python",
   "nbconvert_exporter": "python",
   "pygments_lexer": "ipython3",
   "version": "3.10.8"
  },
  "orig_nbformat": 4
 },
 "nbformat": 4,
 "nbformat_minor": 2
}
