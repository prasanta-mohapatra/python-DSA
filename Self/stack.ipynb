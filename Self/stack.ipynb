{
 "cells": [
  {
   "attachments": {},
   "cell_type": "markdown",
   "metadata": {},
   "source": [
    "### Stack\n",
    "In the english dictionary the word stack means arranging objects on over another. It is the same way memory is allocated in this data structure. It stores the data elements in a similar fashion as a bunch of plates are stored one above another in the kitchen. So stack data strcuture allows operations at one end wich can be called top of the stack.We can add elements or remove elements only form this en dof the stack.\n",
    "\n",
    "In a stack the element insreted last in sequence will come out first as we can remove only from the top of the stack. Such feature is known as Last in First Out(LIFO) feature. The operations of adding and removing the elements is known as PUSH and POP. In the following program we implement it as add and and remove functions. We declare an empty list and use the append() and pop() methods to add and remove the data elements."
   ]
  },
  {
   "attachments": {},
   "cell_type": "markdown",
   "metadata": {},
   "source": [
    "#### Initialise Stack"
   ]
  },
  {
   "cell_type": "code",
   "execution_count": 2,
   "metadata": {},
   "outputs": [],
   "source": [
    "class Stack:\n",
    "    def __init__(self):\n",
    "        self.data = []\n",
    "    \n",
    "    def peek(self):\n",
    "        if self.data:\n",
    "            return self.data[-1]\n",
    "        return None\n",
    "\n",
    "stack = Stack()"
   ]
  },
  {
   "attachments": {},
   "cell_type": "markdown",
   "metadata": {},
   "source": [
    "#### PUSH into a Stack"
   ]
  },
  {
   "cell_type": "code",
   "execution_count": 5,
   "metadata": {},
   "outputs": [
    {
     "name": "stdout",
     "output_type": "stream",
     "text": [
      "Prasant\n",
      "Kumar\n"
     ]
    }
   ],
   "source": [
    "class Stack:\n",
    "    def __init__(self):\n",
    "        self.data = []\n",
    "    \n",
    "    def add(self, element):\n",
    "        self.data.append(element)\n",
    "\n",
    "    def peek(self):\n",
    "        if self.data:\n",
    "            return self.data[-1]\n",
    "        return None\n",
    "\n",
    "stack = Stack()\n",
    "stack.add('Prasant')\n",
    "print(stack.peek()) # Prasant\n",
    "stack.add('Kumar')\n",
    "print(stack.peek()) # Kumar"
   ]
  },
  {
   "attachments": {},
   "cell_type": "markdown",
   "metadata": {},
   "source": [
    "#### POP from a Stack\n",
    "As we know we can remove only the top most data element from the stack, we implement a python program which does that. The remove function in the following program returns the top most element. we check the top element by calculating the size of the stack first and then use the in-built pop() method to find out the top most element."
   ]
  },
  {
   "cell_type": "code",
   "execution_count": 9,
   "metadata": {},
   "outputs": [
    {
     "name": "stdout",
     "output_type": "stream",
     "text": [
      "None\n",
      "Prasant\n",
      "Kumar\n",
      "Prasant\n"
     ]
    }
   ],
   "source": [
    "class Stack:\n",
    "    def __init__(self):\n",
    "        self.data = []\n",
    "    \n",
    "    def add(self, element):\n",
    "        self.data.append(element)\n",
    "\n",
    "    def remove(self):\n",
    "        if self.data:\n",
    "            return self.data.pop()\n",
    "        return\n",
    "\n",
    "    def peek(self):\n",
    "        if self.data:\n",
    "            return self.data[-1]\n",
    "        return\n",
    "\n",
    "stack = Stack()\n",
    "print(stack.peek())\n",
    "stack.add('Prasant')\n",
    "print(stack.peek()) # Prasant\n",
    "stack.add('Kumar')\n",
    "print(stack.peek()) # Kumar\n",
    "stack.remove()\n",
    "print(stack.peek()) # Prasant"
   ]
  },
  {
   "cell_type": "code",
   "execution_count": null,
   "metadata": {},
   "outputs": [],
   "source": []
  }
 ],
 "metadata": {
  "kernelspec": {
   "display_name": "Python 3",
   "language": "python",
   "name": "python3"
  },
  "language_info": {
   "codemirror_mode": {
    "name": "ipython",
    "version": 3
   },
   "file_extension": ".py",
   "mimetype": "text/x-python",
   "name": "python",
   "nbconvert_exporter": "python",
   "pygments_lexer": "ipython3",
   "version": "3.10.8"
  },
  "orig_nbformat": 4
 },
 "nbformat": 4,
 "nbformat_minor": 2
}
