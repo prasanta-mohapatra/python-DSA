{
 "cells": [
  {
   "attachments": {},
   "cell_type": "markdown",
   "metadata": {},
   "source": [
    "### Graphs\n",
    "A graph is a pictorial representation of a set of objects where some pairs of objects are connected by links. The interconnected objects are represented by points termed as vertices, and the links that connect the vertices are called edges. The various terms and functionalities associated with a graph is described in great detail in our tutorial here.\n",
    "\n",
    "In this chapter we are going to see how to create a graph and add various data elements to it using a python program. Following are the basic operations we perform on graphs.\n",
    "\n",
    "1. Display graph vertices\n",
    "2. Display graph edges\n",
    "3. Add a vertex\n",
    "4. Add an edge\n",
    "5. Creating a graph\n",
    "A graph can be easily presented using the python dictionary data types. We represent the vertices as the keys of the dictionary and the connection between the vertices also called edges as the values in the dictionary.\n",
    "\n",
    "```\n",
    "a---------b\n",
    "|         |\n",
    "|         |\n",
    "|         |\n",
    "|         |\n",
    "c---------d---------e\n",
    "\n",
    "V = {a, b, c, d, e}\n",
    "E = {ab, ac, bd, cd, de}\n",
    "```"
   ]
  },
  {
   "cell_type": "code",
   "execution_count": 1,
   "metadata": {},
   "outputs": [
    {
     "name": "stdout",
     "output_type": "stream",
     "text": [
      "{'a': ['b', 'c'], 'b': ['a', 'd'], 'c': ['a', 'd'], 'd': ['e'], 'e': ['d']}\n"
     ]
    }
   ],
   "source": [
    "# Create the dictionary with graph elements\n",
    "graph = { \n",
    "   \"a\" : [\"b\",\"c\"],\n",
    "   \"b\" : [\"a\", \"d\"],\n",
    "   \"c\" : [\"a\", \"d\"],\n",
    "   \"d\" : [\"e\"],\n",
    "   \"e\" : [\"d\"]\n",
    "}\n",
    "# Print the graph \t\t \n",
    "print(graph)"
   ]
  },
  {
   "attachments": {},
   "cell_type": "markdown",
   "metadata": {},
   "source": [
    "#### Display graph vertices\n",
    "To display the graph vertices we simple find the keys of the graph dictionary. We use the keys() method."
   ]
  },
  {
   "cell_type": "code",
   "execution_count": 3,
   "metadata": {},
   "outputs": [
    {
     "name": "stdout",
     "output_type": "stream",
     "text": [
      "['a', 'b', 'c', 'd', 'e']\n"
     ]
    }
   ],
   "source": [
    "class graph:\n",
    "    def __init__(self,gdict=None):\n",
    "        if gdict is None:\n",
    "            gdict = []\n",
    "        self.gdict = gdict\n",
    "    # Get the keys of the dictionary\n",
    "    def getVertices(self):\n",
    "        return list(self.gdict.keys())\n",
    "# Create the dictionary with graph elements\n",
    "graph_elements = { \n",
    "    \"a\" : [\"b\",\"c\"],\n",
    "    \"b\" : [\"a\", \"d\"],\n",
    "    \"c\" : [\"a\", \"d\"],\n",
    "    \"d\" : [\"e\"],\n",
    "    \"e\" : [\"d\"]\n",
    "}\n",
    "g = graph(graph_elements)\n",
    "print(g.getVertices())"
   ]
  },
  {
   "attachments": {},
   "cell_type": "markdown",
   "metadata": {},
   "source": [
    "#### Display graph edges\n",
    "Finding the graph edges is little tricker than the vertices as we have to find each of the pairs of vertices which have an edge in between them. So we create an empty list of edges then iterate through the edge values associated with each of the vertices. A list is formed containing the distinct group of edges found from the vertices."
   ]
  },
  {
   "cell_type": "code",
   "execution_count": 5,
   "metadata": {},
   "outputs": [
    {
     "name": "stdout",
     "output_type": "stream",
     "text": [
      "[{'b', 'a'}, {'c', 'a'}, {'d', 'b'}, {'d', 'c'}, {'e', 'd'}]\n"
     ]
    }
   ],
   "source": [
    "class graph:\n",
    "    def __init__(self,gdict=None):\n",
    "        if gdict is None:\n",
    "            gdict = {}\n",
    "        self.gdict = gdict\n",
    "\n",
    "    def edges(self):\n",
    "        return self.findedges()\n",
    "    # Find the distinct list of edges\n",
    "    def findedges(self):\n",
    "        edgename = []\n",
    "        for vrtx in self.gdict:\n",
    "            for nxtvrtx in self.gdict[vrtx]:\n",
    "                if {nxtvrtx, vrtx} not in edgename:\n",
    "                    edgename.append({vrtx, nxtvrtx})\n",
    "        return edgename\n",
    "# Create the dictionary with graph elements\n",
    "graph_elements = { \n",
    "    \"a\" : [\"b\",\"c\"],\n",
    "    \"b\" : [\"a\", \"d\"],\n",
    "    \"c\" : [\"a\", \"d\"],\n",
    "    \"d\" : [\"e\"],\n",
    "    \"e\" : [\"d\"]\n",
    "}\n",
    "g = graph(graph_elements)\n",
    "print(g.edges())"
   ]
  },
  {
   "attachments": {},
   "cell_type": "markdown",
   "metadata": {},
   "source": [
    "#### Adding a vertex\n",
    "Adding a vertex is straight forward where we add another additional key to the graph dictionary."
   ]
  },
  {
   "cell_type": "code",
   "execution_count": 6,
   "metadata": {},
   "outputs": [
    {
     "name": "stdout",
     "output_type": "stream",
     "text": [
      "['a', 'b', 'c', 'd', 'e', 'f']\n"
     ]
    }
   ],
   "source": [
    "class graph:\n",
    "   def __init__(self,gdict=None):\n",
    "      if gdict is None:\n",
    "         gdict = {}\n",
    "      self.gdict = gdict\n",
    "   def getVertices(self):\n",
    "      return list(self.gdict.keys())\n",
    "# Add the vertex as a key\n",
    "   def addVertex(self, vrtx):\n",
    "      if vrtx not in self.gdict:\n",
    "         self.gdict[vrtx] = []\n",
    "# Create the dictionary with graph elements\n",
    "graph_elements = { \n",
    "   \"a\" : [\"b\",\"c\"],\n",
    "   \"b\" : [\"a\", \"d\"],\n",
    "   \"c\" : [\"a\", \"d\"],\n",
    "   \"d\" : [\"e\"],\n",
    "   \"e\" : [\"d\"]\n",
    "}\n",
    "g = graph(graph_elements)\n",
    "g.addVertex(\"f\")\n",
    "print(g.getVertices())"
   ]
  },
  {
   "attachments": {},
   "cell_type": "markdown",
   "metadata": {},
   "source": [
    "#### Adding an edge\n",
    "Adding an edge to an existing graph involves treating the new vertex as a tuple and validating if the edge is already present. If not then the edge is added."
   ]
  },
  {
   "cell_type": "code",
   "execution_count": 12,
   "metadata": {},
   "outputs": [
    {
     "name": "stdout",
     "output_type": "stream",
     "text": [
      "[{'b', 'a'}, {'c', 'a'}, {'d', 'b'}, {'d', 'c'}, {'e', 'd'}]\n",
      "[{'b', 'a'}, {'c', 'a'}, {'d', 'b'}, {'d', 'c'}, {'e', 'd'}, {'e', 'a'}]\n",
      "[{'b', 'a'}, {'c', 'a'}, {'d', 'b'}, {'d', 'c'}, {'e', 'd'}, {'e', 'a'}]\n"
     ]
    }
   ],
   "source": [
    "class graph:\n",
    "    def __init__(self,gdict=None):\n",
    "        if gdict is None:\n",
    "            gdict = {}\n",
    "        self.gdict = gdict\n",
    "    def edges(self):\n",
    "        return self.findedges()\n",
    "    # Add the new edge\n",
    "    def AddEdge(self, edge):\n",
    "        edge = set(edge)\n",
    "        (vrtx1, vrtx2) = tuple(edge)\n",
    "        if vrtx1 in self.gdict:\n",
    "            self.gdict[vrtx1].append(vrtx2)\n",
    "        else:\n",
    "            self.gdict[vrtx1] = [vrtx2]\n",
    "    # List the edge names\n",
    "    def findedges(self):\n",
    "        edgename = []\n",
    "        for vrtx in self.gdict:\n",
    "            for nxtvrtx in self.gdict[vrtx]:\n",
    "                if {nxtvrtx, vrtx} not in edgename:\n",
    "                    edgename.append({vrtx, nxtvrtx})\n",
    "        return edgename\n",
    "# Create the dictionary with graph elements\n",
    "graph_elements = { \n",
    "    \"a\" : [\"b\",\"c\"],\n",
    "    \"b\" : [\"a\", \"d\"],\n",
    "    \"c\" : [\"a\", \"d\"],\n",
    "    \"d\" : [\"e\"],\n",
    "    \"e\" : [\"d\"]\n",
    "}\n",
    "g = graph(graph_elements)\n",
    "print(g.edges())\n",
    "g.AddEdge({'a','e'})\n",
    "print(g.edges())\n",
    "g.AddEdge({'a','c'})\n",
    "print(g.edges())"
   ]
  },
  {
   "cell_type": "code",
   "execution_count": null,
   "metadata": {},
   "outputs": [],
   "source": []
  }
 ],
 "metadata": {
  "kernelspec": {
   "display_name": "Python 3",
   "language": "python",
   "name": "python3"
  },
  "language_info": {
   "codemirror_mode": {
    "name": "ipython",
    "version": 3
   },
   "file_extension": ".py",
   "mimetype": "text/x-python",
   "name": "python",
   "nbconvert_exporter": "python",
   "pygments_lexer": "ipython3",
   "version": "3.10.8"
  },
  "orig_nbformat": 4
 },
 "nbformat": 4,
 "nbformat_minor": 2
}
