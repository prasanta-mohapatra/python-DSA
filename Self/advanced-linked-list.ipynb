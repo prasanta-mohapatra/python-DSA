{
 "cells": [
  {
   "attachments": {},
   "cell_type": "markdown",
   "metadata": {},
   "source": [
    "### Advanced Linked list\n",
    "In this chapter we see another type of linked list in which it is possible to travel both forward and backward. Such a linked list is called Doubly Linked List. Following is the features of doubly linked list.\n",
    "Doubly Linked List contains a link element called first and last.\n",
    "Each link carries a data field(s) and two link fields called next and prev.\n",
    "Each link is linked with its next link using its next link.\n",
    "Each link is linked with its previous link using its previous link.\n",
    "The last link carries a link as null to mark the end of the list."
   ]
  },
  {
   "attachments": {},
   "cell_type": "markdown",
   "metadata": {},
   "source": [
    "#### Creating Doubly linked list\n",
    "We create a Doubly Linked list by using the Node class. Now we use the same approach as used in the Singly Linked List but the head and next pointers will be used for proper assignation to create two links in each of the nodes in addition to the data present in the node."
   ]
  },
  {
   "cell_type": "code",
   "execution_count": 1,
   "metadata": {},
   "outputs": [
    {
     "name": "stdout",
     "output_type": "stream",
     "text": [
      "tue\n",
      "mon\n"
     ]
    }
   ],
   "source": [
    "class Node:\n",
    "    def __init__(self, element) -> None:\n",
    "        self.data = element\n",
    "        self.prev = None\n",
    "        self.next = None\n",
    "\n",
    "class LinkedList:\n",
    "    def __init__(self) -> None:\n",
    "        self.head = None\n",
    "\n",
    "    def push(self, element) -> None:\n",
    "        newnode = Node(element)\n",
    "        newnode.next = self.head\n",
    "        if self.head is not None:\n",
    "            self.head.prev = newnode\n",
    "        self.head = newnode\n",
    "\n",
    "    def printlist(self):\n",
    "        while self.head is not None:\n",
    "            print(self.head.data)\n",
    "            self.head.prev = self.head\n",
    "            self.head = self.head.next\n",
    "\n",
    "dlist = LinkedList()\n",
    "dlist.push('mon')\n",
    "dlist.push('tue')\n",
    "dlist.printlist()\n"
   ]
  },
  {
   "attachments": {},
   "cell_type": "markdown",
   "metadata": {},
   "source": [
    "#### Inserting into Doubly Linked List\n",
    "Here, we are going to see how to insert a node to the Doubly Link List using the following program. The program uses a method named insert which inserts the new node at the third position from the head of the doubly linked list."
   ]
  },
  {
   "cell_type": "code",
   "execution_count": 5,
   "metadata": {},
   "outputs": [
    {
     "name": "stdout",
     "output_type": "stream",
     "text": [
      "tue\n",
      "mon\n"
     ]
    }
   ],
   "source": [
    "class Node:\n",
    "    def __init__(self, element) -> None:\n",
    "        self.data = element\n",
    "        self.prev = None\n",
    "        self.next = None\n",
    "\n",
    "class LinkedList:\n",
    "    def __init__(self) -> None:\n",
    "        self.head = None\n",
    "\n",
    "    def push(self, element) -> None:\n",
    "        newnode = Node(element)\n",
    "        newnode.next = self.head\n",
    "        if self.head is not None:\n",
    "            self.head.prev = newnode\n",
    "        self.head = newnode\n",
    "\n",
    "    def printlist(self):\n",
    "        while self.head is not None:\n",
    "            print(self.head.data)\n",
    "            self.head.prev = self.head\n",
    "            self.head = self.head.next\n",
    "\n",
    "    def insert(self,element, prev_node):\n",
    "        if prev_node is None:\n",
    "            return\n",
    "        newnode = Node(element)\n",
    "        newnode.next = prev_node.next\n",
    "        prev_node.next = newnode\n",
    "        newnode.prev = prev_node\n",
    "        if newnode.next is not None:\n",
    "         newnode.next.prev = newnode\n",
    "\n",
    "dlist = LinkedList()\n",
    "dlist.push('mon')\n",
    "dlist.push('tue')\n",
    "dlist.printlist()\n",
    "dlist.insert('thu', dlist.head)\n",
    "dlist.printlist()"
   ]
  },
  {
   "attachments": {},
   "cell_type": "markdown",
   "metadata": {},
   "source": [
    "#### Appending to a Doubly linked list\n",
    "Appending to a doubly linked list will add the element at the end."
   ]
  },
  {
   "cell_type": "code",
   "execution_count": 6,
   "metadata": {},
   "outputs": [
    {
     "name": "stdout",
     "output_type": "stream",
     "text": [
      "tue\n",
      "mon\n",
      "fri\n"
     ]
    }
   ],
   "source": [
    "class Node:\n",
    "    def __init__(self, element) -> None:\n",
    "        self.data = element\n",
    "        self.prev = None\n",
    "        self.next = None\n",
    "\n",
    "class LinkedList:\n",
    "    def __init__(self) -> None:\n",
    "        self.head = None\n",
    "\n",
    "    def push(self, element) -> None:\n",
    "        newnode = Node(element)\n",
    "        newnode.next = self.head\n",
    "        if self.head is not None:\n",
    "            self.head.prev = newnode\n",
    "        self.head = newnode\n",
    "\n",
    "    def printlist(self):\n",
    "        while self.head is not None:\n",
    "            print(self.head.data)\n",
    "            self.head.prev = self.head\n",
    "            self.head = self.head.next\n",
    "\n",
    "    def insert(self,element, prev_node):\n",
    "        if prev_node is None:\n",
    "            return\n",
    "        newnode = Node(element)\n",
    "        newnode.next = prev_node.next\n",
    "        prev_node.next = newnode\n",
    "        newnode.prev = prev_node\n",
    "        if newnode.next is not None:\n",
    "         newnode.next.prev = newnode\n",
    "\n",
    "    def append(self, element):\n",
    "      NewNode = Node(element)\n",
    "      NewNode.next = None\n",
    "      if self.head is None:\n",
    "         NewNode.prev = None\n",
    "         self.head = NewNode\n",
    "         return\n",
    "      last = self.head\n",
    "      while (last.next is not None):\n",
    "         last = last.next\n",
    "      last.next = NewNode\n",
    "      NewNode.prev = last\n",
    "      return\n",
    "\n",
    "dlist = LinkedList()\n",
    "dlist.push('mon')\n",
    "dlist.push('tue')\n",
    "dlist.printlist()\n",
    "dlist.insert('thu', dlist.head)\n",
    "dlist.append('fri')\n",
    "dlist.printlist()"
   ]
  },
  {
   "cell_type": "code",
   "execution_count": null,
   "metadata": {},
   "outputs": [],
   "source": []
  }
 ],
 "metadata": {
  "kernelspec": {
   "display_name": "Python 3",
   "language": "python",
   "name": "python3"
  },
  "language_info": {
   "codemirror_mode": {
    "name": "ipython",
    "version": 3
   },
   "file_extension": ".py",
   "mimetype": "text/x-python",
   "name": "python",
   "nbconvert_exporter": "python",
   "pygments_lexer": "ipython3",
   "version": "3.10.8"
  },
  "orig_nbformat": 4
 },
 "nbformat": 4,
 "nbformat_minor": 2
}
