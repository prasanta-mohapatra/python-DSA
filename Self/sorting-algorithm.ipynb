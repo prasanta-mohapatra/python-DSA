{
 "cells": [
  {
   "attachments": {},
   "cell_type": "markdown",
   "metadata": {},
   "source": [
    "### Sorting Algorithms\n",
    "Sorting refers to arranging data in a particular format. Sorting algorithm specifies the way to arrange data in a particular order. Most common orders are in numerical or lexicographical order.\n",
    "\n",
    "The importance of sorting lies in the fact that data searching can be optimized to a very high level, if data is stored in a sorted manner. Sorting is also used to represent data in more readable formats. Below we see five such implementations of sorting in python.\n",
    "\n",
    "1. Bubble Sort\n",
    "\n",
    "2. Merge Sort\n",
    "\n",
    "3. Insertion Sort\n",
    "\n",
    "4. Quick Sort\n",
    "\n",
    "5. Shell Sort\n",
    "\n",
    "6. Selection Sort"
   ]
  },
  {
   "attachments": {},
   "cell_type": "markdown",
   "metadata": {},
   "source": [
    "#### Bubble Sort\n",
    "It is a comparison-based algorithm in which each pair of adjacent elements is compared and the elements are swapped if they are not in order."
   ]
  },
  {
   "cell_type": "code",
   "execution_count": 14,
   "metadata": {},
   "outputs": [
    {
     "name": "stdout",
     "output_type": "stream",
     "text": [
      "[12, 12, 15, 22, 23, 23, 24, 25, 36, 43, 43, 55, 76, 98]\n"
     ]
    }
   ],
   "source": [
    "def bubble_sort(data):\n",
    "    for i in range(len(data)-1, 0, -1):\n",
    "        for j in range(i-1, -1, -1):\n",
    "            if data[i] < data[j]:\n",
    "                data[i], data[j] = data[j], data[i]\n",
    "    return data\n",
    "\n",
    "arr = [23, 43, 12, 22, 24, 23, 76, 43, 36, 55, 98, 12, 25, 15]\n",
    "print(bubble_sort(arr)) # [12, 12, 15, 22, 23, 23, 24, 25, 36, 43, 43, 55, 76, 98]"
   ]
  },
  {
   "cell_type": "code",
   "execution_count": 15,
   "metadata": {},
   "outputs": [
    {
     "name": "stdout",
     "output_type": "stream",
     "text": [
      "[12, 12, 15, 22, 23, 23, 24, 25, 36, 43, 43, 55, 76, 98]\n"
     ]
    }
   ],
   "source": [
    "def bubble_sort(data):\n",
    "    for i in range(len(data)-1, 0, -1):\n",
    "        for j in range(i):\n",
    "            if data[i] < data[j]:\n",
    "                data[i], data[j] = data[j], data[i]\n",
    "    return data\n",
    "\n",
    "arr = [23, 43, 12, 22, 24, 23, 76, 43, 36, 55, 98, 12, 25, 15]\n",
    "print(bubble_sort(arr)) # [12, 12, 15, 22, 23, 23, 24, 25, 36, 43, 43, 55, 76, 98]"
   ]
  },
  {
   "attachments": {},
   "cell_type": "markdown",
   "metadata": {},
   "source": [
    "#### Merge Sort\n",
    "Merge sort first divides the array into equal halves and then combines them in a sorted manner."
   ]
  },
  {
   "cell_type": "code",
   "execution_count": 7,
   "metadata": {},
   "outputs": [
    {
     "name": "stdout",
     "output_type": "stream",
     "text": [
      "[11, 12, 22, 25, 34, 64, 90]\n"
     ]
    }
   ],
   "source": [
    "def merge_sort(unsorted_list):\n",
    "    # Base case: If the list has 0 or 1 element, it is already sorted\n",
    "    if len(unsorted_list) <= 1:\n",
    "        return unsorted_list\n",
    "    \n",
    "    # Step 1: Divide the list into two halves\n",
    "    middle = len(unsorted_list) // 2\n",
    "    left_half = unsorted_list[:middle]\n",
    "    right_half = unsorted_list[middle:]\n",
    "    \n",
    "    # Step 2: Recursively sort the left and right halves\n",
    "    left_half = merge_sort(left_half)\n",
    "    right_half = merge_sort(right_half)\n",
    "    \n",
    "    # Step 3: Merge the sorted halves\n",
    "    return merge(left_half, right_half)\n",
    "\n",
    "\n",
    "def merge(left_half, right_half):\n",
    "    # Initialize an empty list to store the merged result\n",
    "    merged = []\n",
    "    \n",
    "    # Iterate while both halves have elements\n",
    "    while left_half and right_half:\n",
    "        # Compare the first elements of both halves\n",
    "        if left_half[0] <= right_half[0]:\n",
    "            # Append the smaller element to the merged list\n",
    "            merged.append(left_half.pop(0))\n",
    "        else:\n",
    "            merged.append(right_half.pop(0))\n",
    "    \n",
    "    # Append any remaining elements from the left or right half\n",
    "    merged.extend(left_half)\n",
    "    merged.extend(right_half)\n",
    "    \n",
    "    # Return the merged and sorted list\n",
    "    return merged\n",
    "\n",
    "\n",
    "# Example usage:\n",
    "unsorted_list = [64, 34, 25, 12, 22, 11, 90]\n",
    "sorted_list = merge_sort(unsorted_list)\n",
    "print(sorted_list)\n"
   ]
  },
  {
   "cell_type": "code",
   "execution_count": 18,
   "metadata": {},
   "outputs": [
    {
     "name": "stdout",
     "output_type": "stream",
     "text": [
      "[12, 12, 15, 22, 23, 23, 24, 25, 36, 43, 43, 55, 76, 98]\n"
     ]
    }
   ],
   "source": [
    "def merge_sort(data):\n",
    "    if len(data) <= 1:\n",
    "        return data\n",
    "    mid = len(data)//2\n",
    "    left_half = data[:mid]\n",
    "    right_half = data[mid:]\n",
    "\n",
    "    sorted_left = merge_sort(left_half)\n",
    "    sorted_right = merge_sort(right_half)\n",
    "\n",
    "    return merge(sorted_left, sorted_right)\n",
    "\n",
    "def merge(left_data, right_data):\n",
    "    sorted = []\n",
    "    while left_data and right_data:\n",
    "        if left_data[0] <= right_data[0]:\n",
    "            sorted.append(left_data.pop(0))\n",
    "        else:\n",
    "            sorted.append(right_data.pop(0))\n",
    "    sorted.extend(left_data)\n",
    "    sorted.extend(right_data)\n",
    "    return sorted\n",
    "\n",
    "arr = [23, 43, 12, 22, 24, 23, 76, 43, 36, 55, 98, 12, 25, 15]\n",
    "print(merge_sort(arr)) # [12, 12, 15, 22, 23, 23, 24, 25, 36, 43, 43, 55, 76, "
   ]
  },
  {
   "attachments": {},
   "cell_type": "markdown",
   "metadata": {},
   "source": [
    "#### Insertion Sort\n",
    "Insertion sort involves finding the right place for a given element in a sorted list. So in beginning we compare the first two elements and sort them by comparing them. Then we pick the third element and find its proper position among the previous two sorted elements. This way we gradually go on adding more elements to the already sorted list by putting them in their proper position."
   ]
  },
  {
   "cell_type": "code",
   "execution_count": 40,
   "metadata": {},
   "outputs": [
    {
     "name": "stdout",
     "output_type": "stream",
     "text": [
      "[12, 12, 15, 22, 23, 23, 24, 25, 36, 43, 43, 55, 76, 98]\n"
     ]
    }
   ],
   "source": [
    "def insertion_sort(data):\n",
    "    for i in range(1, len(data)):\n",
    "        for j in range(i-1, -1, -1):\n",
    "            if j == 0 and data[j] > data[i]:\n",
    "                temp = data.pop(i)\n",
    "                data.insert(0, temp)\n",
    "                break\n",
    "            if data[i] >= data[j]:\n",
    "                temp = data.pop(i)\n",
    "                data.insert(j+1, temp)\n",
    "                break\n",
    "    return data\n",
    "\n",
    "arr = [23, 43, 12, 22, 24, 23, 76, 43, 36, 55, 98, 12, 25, 15]\n",
    "print(insertion_sort(arr)) # [12, 12, 15, 22, 23, 23, 24, 25, 36, 43, 43, 55, 76, 98"
   ]
  },
  {
   "attachments": {},
   "cell_type": "markdown",
   "metadata": {},
   "source": [
    "#### Quick Sort\n",
    "Take the 1st element of the list as pivot point and divide into 2 parts by comparing each element as his less or bigger and recursivele merge them"
   ]
  },
  {
   "cell_type": "code",
   "execution_count": 44,
   "metadata": {},
   "outputs": [
    {
     "name": "stdout",
     "output_type": "stream",
     "text": [
      "[12, 12, 15, 22, 23, 23, 24, 25, 36, 43, 43, 55, 76, 98]\n"
     ]
    }
   ],
   "source": [
    "def quick_sort(data):\n",
    "    if len(data) <= 1:\n",
    "        return data\n",
    "    pivot = data[0]\n",
    "    less = [e for e in data[1:] if pivot >= e]\n",
    "    big = [e for e in data[1:] if pivot < e]\n",
    "    return quick_sort(less)+[pivot]+quick_sort(big)\n",
    "arr = [23, 43, 12, 22, 24, 23, 76, 43, 36, 55, 98, 12, 25, 15]\n",
    "print(quick_sort(arr)) # [12, 12, 15, 22, 23, 23, 24, 25, 36, 43, 43, 55, 76, 98"
   ]
  },
  {
   "attachments": {},
   "cell_type": "markdown",
   "metadata": {},
   "source": [
    "#### Shell Sort\n",
    "Shell Sort is an efficient sorting algorithm that is based on the Insertion Sort algorithm. It improves the time complexity of Insertion Sort by sorting elements that are far apart before sorting elements that are closer together. This technique reduces the number of comparisons and swaps required to sort the array.\n",
    "Here's the step-by-step explanation of the Shell Sort algorithm:\n",
    "\n",
    "1. Start with an unsorted array of elements.\n",
    "2. Choose a gap sequence, which is a series of gaps (intervals) between elements. The most commonly used gap sequence is the \"Knuth sequence\" (3k - 1), where k is a positive integer.\n",
    "3. Perform insertion sort on each sublist created by the gaps. The sublists are created by considering elements that are 'gap' positions apart.\n",
    "4. Repeat the above step, reducing the gap size each time until the gap becomes 1."
   ]
  },
  {
   "cell_type": "code",
   "execution_count": 45,
   "metadata": {},
   "outputs": [
    {
     "name": "stdout",
     "output_type": "stream",
     "text": [
      "[12, 12, 15, 22, 23, 23, 24, 25, 36, 43, 43, 55, 76, 98]\n"
     ]
    }
   ],
   "source": [
    "def shell_sort(data):\n",
    "    gap = len(data) // 2\n",
    "    while gap > 0 :\n",
    "        for i in range(gap, len(data)):\n",
    "            for j in range(i-1, -1, -1):\n",
    "                if j == 0 and data[j] > data[i]:\n",
    "                    temp = data.pop(i)\n",
    "                    data.insert(0, temp)\n",
    "                    break\n",
    "                if data[i] >= data[j]:\n",
    "                    temp = data.pop(i)\n",
    "                    data.insert(j+1, temp)\n",
    "                    break\n",
    "        gap //= 2\n",
    "    return data\n",
    "\n",
    "arr = [23, 43, 12, 22, 24, 23, 76, 43, 36, 55, 98, 12, 25, 15]\n",
    "print(shell_sort(arr)) # [12, 12, 15, 22, 23, 23, 24, 25, 36, 43, 43, 55, 76, 98"
   ]
  },
  {
   "attachments": {},
   "cell_type": "markdown",
   "metadata": {},
   "source": [
    "#### Selection Sort\n",
    "In selection sort we start by finding the minimum value in a given list and move it to a sorted list. Then we repeat the process for each of the remaining elements in the unsorted list. The next element entering the sorted list is compared with the existing elements and placed at its correct position.So, at the end all the elements from the unsorted list are sorted."
   ]
  },
  {
   "cell_type": "code",
   "execution_count": 47,
   "metadata": {},
   "outputs": [
    {
     "name": "stdout",
     "output_type": "stream",
     "text": [
      "[12, 12, 15, 22, 23, 23, 24, 25, 36, 43, 43, 55, 76, 98]\n"
     ]
    }
   ],
   "source": [
    "def selection_sort(data):\n",
    "    sorted = []\n",
    "    while len(data):\n",
    "        least = float(\"inf\")\n",
    "        ind = 0\n",
    "        for i,j in enumerate(data):\n",
    "            if least >= j:\n",
    "                least = j\n",
    "                ind = i\n",
    "        sorted.append(least)\n",
    "        data.pop(ind)\n",
    "    return sorted\n",
    "\n",
    "arr = [23, 43, 12, 22, 24, 23, 76, 43, 36, 55, 98, 12, 25, 15]\n",
    "print(selection_sort(arr)) # [12, 12, 15, 22, 23, 23, 24, 25, 36, 43, 43, 55, 76, 98"
   ]
  },
  {
   "cell_type": "code",
   "execution_count": null,
   "metadata": {},
   "outputs": [],
   "source": []
  }
 ],
 "metadata": {
  "kernelspec": {
   "display_name": "Python 3",
   "language": "python",
   "name": "python3"
  },
  "language_info": {
   "codemirror_mode": {
    "name": "ipython",
    "version": 3
   },
   "file_extension": ".py",
   "mimetype": "text/x-python",
   "name": "python",
   "nbconvert_exporter": "python",
   "pygments_lexer": "ipython3",
   "version": "3.10.8"
  },
  "orig_nbformat": 4
 },
 "nbformat": 4,
 "nbformat_minor": 2
}
