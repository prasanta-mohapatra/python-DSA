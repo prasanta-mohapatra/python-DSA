{
 "cells": [
  {
   "attachments": {},
   "cell_type": "markdown",
   "metadata": {},
   "source": [
    "### Sorting Algorithms\n",
    "Sorting refers to arranging data in a particular format. Sorting algorithm specifies the way to arrange data in a particular order. Most common orders are in numerical or lexicographical order.\n",
    "\n",
    "The importance of sorting lies in the fact that data searching can be optimized to a very high level, if data is stored in a sorted manner. Sorting is also used to represent data in more readable formats. Below we see five such implementations of sorting in python.\n",
    "\n",
    "1. Bubble Sort\n",
    "\n",
    "2. Merge Sort\n",
    "\n",
    "3. Insertion Sort\n",
    "\n",
    "4. Shell Sort\n",
    "\n",
    "5. Selection Sort"
   ]
  },
  {
   "attachments": {},
   "cell_type": "markdown",
   "metadata": {},
   "source": [
    "#### Bubble Sort\n",
    "It is a comparison-based algorithm in which each pair of adjacent elements is compared and the elements are swapped if they are not in order."
   ]
  },
  {
   "cell_type": "code",
   "execution_count": 6,
   "metadata": {},
   "outputs": [
    {
     "name": "stdout",
     "output_type": "stream",
     "text": [
      "[12, 12, 15, 22, 23, 23, 24, 25, 36, 43, 43, 55, 76, 98]\n"
     ]
    }
   ],
   "source": [
    "def bubble_sort(data):\n",
    "    for i in range(len(data)-1, 0, -1):\n",
    "        for j in range(i):\n",
    "            if data[j] > data[j+1]:\n",
    "                data[j+1], data[j] = data[j], data[j+1]\n",
    "    return data\n",
    "\n",
    "arr = [23, 43, 12, 22, 24, 23, 76, 43, 36, 55, 98, 12, 25, 15]\n",
    "print(bubble_sort(arr)) # [12, 12, 15, 22, 23, 23, 24, 25, 36, 43, 43, 55, 76, 98]"
   ]
  },
  {
   "attachments": {},
   "cell_type": "markdown",
   "metadata": {},
   "source": [
    "#### Merge Sort\n",
    "Merge sort first divides the array into equal halves and then combines them in a sorted manner."
   ]
  },
  {
   "cell_type": "code",
   "execution_count": 7,
   "metadata": {},
   "outputs": [
    {
     "name": "stdout",
     "output_type": "stream",
     "text": [
      "[11, 12, 22, 25, 34, 64, 90]\n"
     ]
    }
   ],
   "source": [
    "def merge_sort(unsorted_list):\n",
    "    # Base case: If the list has 0 or 1 element, it is already sorted\n",
    "    if len(unsorted_list) <= 1:\n",
    "        return unsorted_list\n",
    "    \n",
    "    # Step 1: Divide the list into two halves\n",
    "    middle = len(unsorted_list) // 2\n",
    "    left_half = unsorted_list[:middle]\n",
    "    right_half = unsorted_list[middle:]\n",
    "    \n",
    "    # Step 2: Recursively sort the left and right halves\n",
    "    left_half = merge_sort(left_half)\n",
    "    right_half = merge_sort(right_half)\n",
    "    \n",
    "    # Step 3: Merge the sorted halves\n",
    "    return merge(left_half, right_half)\n",
    "\n",
    "\n",
    "def merge(left_half, right_half):\n",
    "    # Initialize an empty list to store the merged result\n",
    "    merged = []\n",
    "    \n",
    "    # Iterate while both halves have elements\n",
    "    while left_half and right_half:\n",
    "        # Compare the first elements of both halves\n",
    "        if left_half[0] <= right_half[0]:\n",
    "            # Append the smaller element to the merged list\n",
    "            merged.append(left_half.pop(0))\n",
    "        else:\n",
    "            merged.append(right_half.pop(0))\n",
    "    \n",
    "    # Append any remaining elements from the left or right half\n",
    "    merged.extend(left_half)\n",
    "    merged.extend(right_half)\n",
    "    \n",
    "    # Return the merged and sorted list\n",
    "    return merged\n",
    "\n",
    "\n",
    "# Example usage:\n",
    "unsorted_list = [64, 34, 25, 12, 22, 11, 90]\n",
    "sorted_list = merge_sort(unsorted_list)\n",
    "print(sorted_list)\n"
   ]
  },
  {
   "cell_type": "code",
   "execution_count": null,
   "metadata": {},
   "outputs": [],
   "source": []
  }
 ],
 "metadata": {
  "kernelspec": {
   "display_name": "Python 3",
   "language": "python",
   "name": "python3"
  },
  "language_info": {
   "codemirror_mode": {
    "name": "ipython",
    "version": 3
   },
   "file_extension": ".py",
   "mimetype": "text/x-python",
   "name": "python",
   "nbconvert_exporter": "python",
   "pygments_lexer": "ipython3",
   "version": "3.10.8"
  },
  "orig_nbformat": 4
 },
 "nbformat": 4,
 "nbformat_minor": 2
}
