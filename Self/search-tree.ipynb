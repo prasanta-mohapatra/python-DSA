{
 "cells": [
  {
   "attachments": {},
   "cell_type": "markdown",
   "metadata": {},
   "source": [
    "### Search Tree\n",
    "A Binary Search Tree (BST) is a tree in which all the nodes follow the below-mentioned properties.The left sub-tree of a node has a key less than or equal to its parent node's key.The right sub-tree of a node has a key greater than to its parent node's key.Thus, BST divides all its sub-trees into two segments; the left sub-tree and the right sub-tree\n",
    "`left_subtree (keys)  ≤  node (key)  ≤  right_subtree (keys)`"
   ]
  },
  {
   "attachments": {},
   "cell_type": "markdown",
   "metadata": {},
   "source": [
    "#### Search for a value in a B-tree\n",
    "Searching for a value in a tree involves comparing the incoming value with the value exiting nodes. Here also we traverse the nodes from left to right and then finally with the parent. If the searched for value does not match any of the exiting value, then we return not found message, or else the found message is returned."
   ]
  },
  {
   "cell_type": "code",
   "execution_count": 1,
   "metadata": {},
   "outputs": [
    {
     "name": "stdout",
     "output_type": "stream",
     "text": [
      "7 not found\n",
      "14 found\n"
     ]
    }
   ],
   "source": [
    "class Node:\n",
    "    def __init__(self, element) -> None:\n",
    "        self.data = element\n",
    "        self.left = None\n",
    "        self.right = None\n",
    "    def insert(self, element):\n",
    "        if self.data:\n",
    "            if element < self.data:\n",
    "                if self.left:\n",
    "                    self.left = self.left.insert(element)\n",
    "                else:\n",
    "                    self.left = Node(element)\n",
    "            elif element > self.data:\n",
    "                if self.right:\n",
    "                    self.right = self.right.insert(element)\n",
    "                else:\n",
    "                    self.right = Node(element)\n",
    "    def findval(self, element):\n",
    "        if self.data:\n",
    "            if self.data == element:\n",
    "                return f\"{self.data} found\"\n",
    "            elif self.data > element:\n",
    "                if self.left:\n",
    "                    return self.left.findval(element)\n",
    "                return f\"{element} not found\"\n",
    "            elif self.data < element:\n",
    "                if self.right:\n",
    "                    return self.right.findval(element)\n",
    "                return f\"{element} not found\"\n",
    "\n",
    "    def printtree(self):\n",
    "        if self.data:\n",
    "            if self.left:\n",
    "                self.left.printtree()\n",
    "            print(self.data)\n",
    "            if self.right:\n",
    "                self.right.printtree()\n",
    "\n",
    "root = Node(12)\n",
    "root.insert(6)\n",
    "root.insert(14)\n",
    "root.insert(3)\n",
    "print(root.findval(7))\n",
    "print(root.findval(14))"
   ]
  },
  {
   "cell_type": "code",
   "execution_count": null,
   "metadata": {},
   "outputs": [],
   "source": []
  }
 ],
 "metadata": {
  "kernelspec": {
   "display_name": "Python 3",
   "language": "python",
   "name": "python3"
  },
  "language_info": {
   "codemirror_mode": {
    "name": "ipython",
    "version": 3
   },
   "file_extension": ".py",
   "mimetype": "text/x-python",
   "name": "python",
   "nbconvert_exporter": "python",
   "pygments_lexer": "ipython3",
   "version": "3.10.8"
  },
  "orig_nbformat": 4
 },
 "nbformat": 4,
 "nbformat_minor": 2
}
