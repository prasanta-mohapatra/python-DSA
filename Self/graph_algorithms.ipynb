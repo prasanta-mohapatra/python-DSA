{
 "cells": [
  {
   "attachments": {},
   "cell_type": "markdown",
   "metadata": {},
   "source": [
    "### Graph Algorithms\n",
    "Graphs are very useful data structures in solving many important mathematical challenges. For example computer network topology or analysing molecular structures of chemical compounds. They are also used in city traffic or route planning and even in human languages and their grammar. All these applications have a common challenge of traversing the graph using their edges and ensuring that all nodes of the graphs are visited. There are two common established methods to do this traversal which is described below."
   ]
  },
  {
   "attachments": {},
   "cell_type": "markdown",
   "metadata": {},
   "source": [
    "#### Depth First Traversal\n",
    "Also called depth first search (DFS),this algorithm traverses a graph in a depth ward motion and uses a stack to remember to get the next vertex to start a search, when a dead end occurs in any iteration. We implement DFS for a graph in python using the set data types as they provide the required functionalities to keep track of visited and unvisited nodes."
   ]
  },
  {
   "cell_type": "code",
   "execution_count": 6,
   "metadata": {},
   "outputs": [
    {
     "name": "stdout",
     "output_type": "stream",
     "text": [
      "b a e f g h d c "
     ]
    }
   ],
   "source": [
    "class Graph:\n",
    "    def __init__(self, g_dict=None):\n",
    "        if g_dict is None:\n",
    "            g_dict = {}\n",
    "        self.data = g_dict\n",
    "    \n",
    "def dfs(graph, start, visited=None):\n",
    "    if visited is None:\n",
    "        visited = set()\n",
    "    visited.add(start)\n",
    "    print(start, end=\" \")\n",
    "\n",
    "    for neighbor in graph[start]:\n",
    "        if neighbor not in visited:\n",
    "            dfs(graph, neighbor, visited)\n",
    "\n",
    "gdict = {\n",
    "    \"a\": set([\"b\", \"c\", \"e\"]),\n",
    "    \"b\": set([\"a\", \"d\"]),\n",
    "    \"c\": set([\"a\", \"d\"]),\n",
    "    \"d\": set([\"b\", \"c\", \"e\"]),\n",
    "    \"e\": set([\"a\", \"d\", \"f\"]),\n",
    "    \"f\": set([\"e\", \"g\"]),\n",
    "    \"g\": set([\"f\", \"h\"]),\n",
    "    \"h\": set([\"g\"])\n",
    "}\n",
    "dfs(gdict, 'b')"
   ]
  },
  {
   "cell_type": "code",
   "execution_count": 10,
   "metadata": {},
   "outputs": [
    {
     "name": "stdout",
     "output_type": "stream",
     "text": [
      "b a d e c f g h "
     ]
    }
   ],
   "source": [
    "from collections import deque\n",
    "\n",
    "def bfs(graph, source):\n",
    "    visited = set()\n",
    "    queue = deque([source])\n",
    "    visited.add(source)\n",
    "\n",
    "    while queue:\n",
    "        vertex = queue.popleft()\n",
    "        print(vertex, end=\" \")\n",
    "\n",
    "        for neighbor in graph[vertex]:\n",
    "            if neighbor not in visited:\n",
    "                queue.append(neighbor)\n",
    "                visited.add(neighbor)\n",
    "\n",
    "gdict = {\n",
    "    \"a\": set([\"b\", \"c\", \"e\"]),\n",
    "    \"b\": set([\"a\", \"d\"]),\n",
    "    \"c\": set([\"a\", \"d\"]),\n",
    "    \"d\": set([\"b\", \"c\", \"e\"]),\n",
    "    \"e\": set([\"a\", \"d\", \"f\"]),\n",
    "    \"f\": set([\"e\", \"g\"]),\n",
    "    \"g\": set([\"f\", \"h\"]),\n",
    "    \"h\": set([\"g\"])\n",
    "}\n",
    "bfs(gdict, 'b')"
   ]
  },
  {
   "cell_type": "code",
   "execution_count": null,
   "metadata": {},
   "outputs": [],
   "source": []
  }
 ],
 "metadata": {
  "kernelspec": {
   "display_name": "Python 3",
   "language": "python",
   "name": "python3"
  },
  "language_info": {
   "codemirror_mode": {
    "name": "ipython",
    "version": 3
   },
   "file_extension": ".py",
   "mimetype": "text/x-python",
   "name": "python",
   "nbconvert_exporter": "python",
   "pygments_lexer": "ipython3",
   "version": "3.10.8"
  },
  "orig_nbformat": 4
 },
 "nbformat": 4,
 "nbformat_minor": 2
}
