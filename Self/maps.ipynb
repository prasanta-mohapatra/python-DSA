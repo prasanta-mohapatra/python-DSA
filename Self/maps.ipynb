{
 "cells": [
  {
   "attachments": {},
   "cell_type": "markdown",
   "metadata": {},
   "source": [
    "### Maps\n",
    "Python Maps also called ChainMap is a type of data structure to manage multiple dictionaries together as one unit. The combined dictionary contains the key and value pairs in a specific sequence eliminating any duplicate keys. The best use of ChainMap is to search through multiple dictionaries at a time and get the proper key-value pair mapping. We also see that these ChainMaps behave as stack data structure."
   ]
  },
  {
   "attachments": {},
   "cell_type": "markdown",
   "metadata": {},
   "source": [
    "#### Creating a ChainMap\n",
    "We create two dictionaries and club them using the ChainMap method from the collections library. Then we print the keys and values of the result of the combination of the dictionaries. If there are duplicate keys, then only the value from the first key is preserved."
   ]
  },
  {
   "cell_type": "code",
   "execution_count": 2,
   "metadata": {},
   "outputs": [
    {
     "name": "stdout",
     "output_type": "stream",
     "text": [
      "[{'day1': 'Mon', 'day2': 'Tue'}, {'day3': 'Wed', 'day1': 'Thu'}] \n",
      "\n",
      "Keys = ['day3', 'day1', 'day2']\n",
      "Values = ['Wed', 'Mon', 'Tue']\n",
      "\n",
      "elements:\n",
      "day3 = Wed\n",
      "day1 = Mon\n",
      "day2 = Tue\n",
      "\n",
      "day3 in res: True\n",
      "day4 in res: False\n"
     ]
    }
   ],
   "source": [
    "import collections\n",
    "\n",
    "dict1 = {'day1': 'Mon', 'day2': 'Tue'}\n",
    "dict2 = {'day3': 'Wed', 'day1': 'Thu'}\n",
    "\n",
    "res = collections.ChainMap(dict1, dict2)\n",
    "\n",
    "# Creating a single dictionary\n",
    "print(res.maps,'\\n') #[{'day1': 'Mon', 'day2': 'Tue'}, {'day3': 'Wed', 'day1': 'Thu'}] \n",
    "\n",
    "print('Keys = {}'.format(list(res.keys()))) # Keys = ['day3', 'day1', 'day2']\n",
    "print('Values = {}'.format(list(res.values()))) # Values = ['Wed', 'Mon', 'Tue']\n",
    "print()\n",
    "\n",
    "# Print all the elements from the result\n",
    "\"\"\"\n",
    "elements:\n",
    "day3 = Wed\n",
    "day1 = Mon\n",
    "day2 = Tue\n",
    "\"\"\"\n",
    "print('elements:')\n",
    "for key, val in res.items():\n",
    "   print('{} = {}'.format(key, val))\n",
    "print()\n",
    "\n",
    "# Find a specific value in the result\n",
    "print('day3 in res: {}'.format(('day1' in res))) # day3 in res: True\n",
    "print('day4 in res: {}'.format(('day4' in res))) # day4 in res: False"
   ]
  },
  {
   "attachments": {},
   "cell_type": "markdown",
   "metadata": {},
   "source": [
    "#### Map Reordering\n",
    "If we change the order the dictionaries while clubbing them in the above example we see that the position of the elements get interchanged as if they are in a continuous chain. This again shows the behavior of Maps as stacks."
   ]
  },
  {
   "cell_type": "code",
   "execution_count": 3,
   "metadata": {},
   "outputs": [
    {
     "name": "stdout",
     "output_type": "stream",
     "text": [
      "[{'day1': 'Mon', 'day2': 'Tue'}, {'day3': 'Wed', 'day1': 'Thu'}] \n",
      "\n",
      "[{'day3': 'Wed', 'day1': 'Thu'}, {'day1': 'Mon', 'day2': 'Tue'}] \n",
      "\n"
     ]
    }
   ],
   "source": [
    "res1 = collections.ChainMap(dict1, dict2)\n",
    "print(res1.maps,'\\n') # [{'day1': 'Mon', 'day2': 'Tue'}, {'day3': 'Wed', 'day1': 'Thu'}]\n",
    "\n",
    "res2 = collections.ChainMap(dict2, dict1) \n",
    "print(res2.maps,'\\n') # [{'day3': 'Wed', 'day1': 'Thu'}, {'day1': 'Mon', 'day2': 'Tue'}] "
   ]
  },
  {
   "attachments": {},
   "cell_type": "markdown",
   "metadata": {},
   "source": [
    "#### Updating Map\n",
    "When the element of the dictionary is updated, the result is instantly updated in the result of the ChainMap. In the below example we see that the new updated value reflects in the result without explicitly applying the ChainMap method again."
   ]
  },
  {
   "cell_type": "code",
   "execution_count": 9,
   "metadata": {},
   "outputs": [
    {
     "name": "stdout",
     "output_type": "stream",
     "text": [
      "[{'day1': 'Mon', 'day2': 'Tue'}, {'day3': 'Wed', 'day1': 'Thu', 'day4': 'Sat'}] \n",
      "\n",
      "[{'day1': 'Mon', 'day2': 'Tue'}, {'day3': 'Wed', 'day1': 'Thu', 'day4': 'Sat'}] \n",
      "\n"
     ]
    }
   ],
   "source": [
    "res = collections.ChainMap(dict1, dict2)\n",
    "print(res.maps,'\\n') # [{'day1': 'Mon', 'day2': 'Tue'}, {'day3': 'Wed', 'day1': 'Thu', 'day4': 'Fri'}]\n",
    "\n",
    "dict2['day4'] = 'Sat'\n",
    "print(res.maps,'\\n') # [{'day1': 'Mon', 'day2': 'Tue'}, {'day3': 'Wed', 'day1': 'Thu', 'day4': 'Sat'}] "
   ]
  },
  {
   "cell_type": "code",
   "execution_count": null,
   "metadata": {},
   "outputs": [],
   "source": []
  }
 ],
 "metadata": {
  "kernelspec": {
   "display_name": "Python 3",
   "language": "python",
   "name": "python3"
  },
  "language_info": {
   "codemirror_mode": {
    "name": "ipython",
    "version": 3
   },
   "file_extension": ".py",
   "mimetype": "text/x-python",
   "name": "python",
   "nbconvert_exporter": "python",
   "pygments_lexer": "ipython3",
   "version": "3.10.8"
  },
  "orig_nbformat": 4
 },
 "nbformat": 4,
 "nbformat_minor": 2
}
