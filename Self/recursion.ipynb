{
 "cells": [
  {
   "attachments": {},
   "cell_type": "markdown",
   "metadata": {},
   "source": [
    "### Recursion\n",
    "Recursion allows a function to call itself. Fixed steps of code get executed again and again for new values. We also have to set criteria for deciding when the recursive call ends. In the below example we see a recursive approach to the binary search. We take a sorted list and give its index range as input to the recursive function."
   ]
  },
  {
   "attachments": {},
   "cell_type": "markdown",
   "metadata": {},
   "source": [
    "#### Binary Search using Recursion\n",
    "We use an ordered list of items and design a recursive function to take in the list along with starting and ending index as input. Then, the binary search function calls itself till find the searched item or concludes about its absence in the list."
   ]
  },
  {
   "cell_type": "code",
   "execution_count": 1,
   "metadata": {},
   "outputs": [
    {
     "name": "stdout",
     "output_type": "stream",
     "text": [
      "None\n"
     ]
    }
   ],
   "source": [
    "from typing import Optional\n",
    "\n",
    "\n",
    "def binary_search(arr: list, val: int, start: Optional[int] = None, end: Optional[int] = None) -> Optional[int]:\n",
    "    start = start or 0\n",
    "    end = end or len(arr) - 1\n",
    "    \n",
    "    if start > end:\n",
    "        return None\n",
    "    \n",
    "    mid = (start + end) // 2\n",
    "    mid_val = arr[mid]\n",
    "    \n",
    "    if val == mid_val:\n",
    "        return mid\n",
    "    elif val < mid_val:\n",
    "        return binary_search(arr, val, start, mid - 1)\n",
    "    else:\n",
    "        return binary_search(arr, val, mid + 1, end)\n",
    "\n",
    "\n",
    "sorted_arr = [1,2,3,4,5,7,8,9,10,11,12]\n",
    "print(binary_search(sorted_arr, 6))"
   ]
  },
  {
   "cell_type": "code",
   "execution_count": null,
   "metadata": {},
   "outputs": [],
   "source": []
  }
 ],
 "metadata": {
  "kernelspec": {
   "display_name": "Python 3",
   "language": "python",
   "name": "python3"
  },
  "language_info": {
   "codemirror_mode": {
    "name": "ipython",
    "version": 3
   },
   "file_extension": ".py",
   "mimetype": "text/x-python",
   "name": "python",
   "nbconvert_exporter": "python",
   "pygments_lexer": "ipython3",
   "version": "3.10.8"
  },
  "orig_nbformat": 4
 },
 "nbformat": 4,
 "nbformat_minor": 2
}
