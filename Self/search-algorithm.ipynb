{
 "cells": [
  {
   "attachments": {},
   "cell_type": "markdown",
   "metadata": {},
   "source": [
    "### Search Algorithms\n",
    "1. Linear Search\n",
    "2. Binary Search\n",
    "3. Hashing\n",
    "4. Binary Search Tree (BST) Search\n",
    "5. Ternary Search\n",
    "6. Interpolation Search"
   ]
  },
  {
   "attachments": {},
   "cell_type": "markdown",
   "metadata": {},
   "source": [
    "#### Linear Search\n",
    "Time Complexity: O(n)\n",
    "It sequentially checks each element of the list until a match is found or the end of the list is reached."
   ]
  },
  {
   "cell_type": "code",
   "execution_count": 3,
   "metadata": {},
   "outputs": [
    {
     "name": "stdout",
     "output_type": "stream",
     "text": [
      "-1\n"
     ]
    }
   ],
   "source": [
    "def linear_search(data, val):\n",
    "    for i, j in enumerate(data):\n",
    "        if j == val:\n",
    "            return i\n",
    "    return -1\n",
    "\n",
    "arr = [23, 43, 12, 22, 24, 23, 76, 43, 36, 55, 98, 12, 25, 15]\n",
    "print(linear_search(arr, 32)) # -1"
   ]
  },
  {
   "attachments": {},
   "cell_type": "markdown",
   "metadata": {},
   "source": [
    "#### Binary Search\n",
    "Time Complexity: O(log n)\n",
    "It requires the list to be sorted. It compares the target value with the middle element of the sorted list and narrows down the search range by half with each comparison."
   ]
  },
  {
   "cell_type": "code",
   "execution_count": 6,
   "metadata": {},
   "outputs": [
    {
     "name": "stdout",
     "output_type": "stream",
     "text": [
      "2\n"
     ]
    }
   ],
   "source": [
    "def binary_search(data, val):\n",
    "    high = len(data)\n",
    "    low = 0\n",
    "    while low <= high:\n",
    "        mid = len(data)//2\n",
    "        if data[mid] == val:\n",
    "            return mid\n",
    "        if data[mid] > val:\n",
    "            high = mid-1\n",
    "        else:\n",
    "            low = mid+1\n",
    "    return -1\n",
    "    \n",
    "\n",
    "arr = [12, 12, 22, 23, 24, 43, 55, 76, 98]\n",
    "print(linear_search(arr, 22))"
   ]
  },
  {
   "cell_type": "code",
   "execution_count": 11,
   "metadata": {},
   "outputs": [
    {
     "name": "stdout",
     "output_type": "stream",
     "text": [
      "2\n"
     ]
    }
   ],
   "source": [
    "def binary_search_recursive(data, val, low=0, high=None):\n",
    "    if high is None:\n",
    "        high = len(data)\n",
    "    if low > high:\n",
    "        return -1\n",
    "    mid = (low + high)//2\n",
    "    if data[mid] == val:\n",
    "        return mid\n",
    "    if data[mid] > val:\n",
    "        return binary_search_recursive(data, val, low, mid-1)\n",
    "    else:\n",
    "        return binary_search_recursive(data, val, mid+1, high)\n",
    "    \n",
    "\n",
    "arr = [12, 12, 22, 23, 24, 43, 55, 76, 98]\n",
    "print(binary_search_recursive(arr, 22))"
   ]
  },
  {
   "attachments": {},
   "cell_type": "markdown",
   "metadata": {},
   "source": [
    "#### Hashing\n",
    "Time Complexity: O(1) (on average)\n",
    "It uses a hash function to compute an index where the target value is expected to be stored in a data structure like a hash table. Hashing allows for fast retrieval of values based on their keys."
   ]
  },
  {
   "cell_type": "code",
   "execution_count": 12,
   "metadata": {},
   "outputs": [
    {
     "name": "stdout",
     "output_type": "stream",
     "text": [
      "10\n",
      "20\n",
      "None\n",
      "Bucket 0: []\n",
      "Bucket 1: [('apple', 10)]\n",
      "Bucket 2: [('orange', 30)]\n",
      "Bucket 3: []\n",
      "Bucket 4: []\n",
      "Bucket 5: []\n",
      "Bucket 6: []\n",
      "Bucket 7: []\n",
      "Bucket 8: []\n",
      "Bucket 9: []\n"
     ]
    }
   ],
   "source": [
    "class HashTable:\n",
    "    def __init__(self, size):\n",
    "        self.size = size\n",
    "        self.table = [[] for _ in range(size)]\n",
    "\n",
    "    def _hash_function(self, key):\n",
    "        return hash(key) % self.size\n",
    "\n",
    "    def insert(self, key, value):\n",
    "        index = self._hash_function(key)\n",
    "        bucket = self.table[index]\n",
    "        for i, (k, v) in enumerate(bucket):\n",
    "            if k == key:\n",
    "                bucket[i] = (key, value)\n",
    "                return\n",
    "        bucket.append((key, value))\n",
    "\n",
    "    def search(self, key):\n",
    "        index = self._hash_function(key)\n",
    "        bucket = self.table[index]\n",
    "        for k, v in bucket:\n",
    "            if k == key:\n",
    "                return v\n",
    "        return None\n",
    "\n",
    "    def delete(self, key):\n",
    "        index = self._hash_function(key)\n",
    "        bucket = self.table[index]\n",
    "        for i, (k, v) in enumerate(bucket):\n",
    "            if k == key:\n",
    "                del bucket[i]\n",
    "                return\n",
    "\n",
    "    def display(self):\n",
    "        for i, bucket in enumerate(self.table):\n",
    "            print(f\"Bucket {i}: {bucket}\")\n",
    "\n",
    "\n",
    "# Example usage\n",
    "hash_table = HashTable(size=10)\n",
    "\n",
    "hash_table.insert(\"apple\", 10)\n",
    "hash_table.insert(\"banana\", 20)\n",
    "hash_table.insert(\"orange\", 30)\n",
    "\n",
    "print(hash_table.search(\"apple\"))  # Output: 10\n",
    "print(hash_table.search(\"banana\"))  # Output: 20\n",
    "print(hash_table.search(\"grape\"))  # Output: None\n",
    "\n",
    "hash_table.delete(\"banana\")\n",
    "\n",
    "hash_table.display()\n"
   ]
  },
  {
   "attachments": {},
   "cell_type": "markdown",
   "metadata": {},
   "source": [
    "#### Binary Search Tree (BST) Search\n",
    "Time Complexity: O(log n) (on average)\n",
    "It uses a binary search tree data structure, where each node has a key and two children (left and right). The BST property ensures that elements in the left subtree are smaller, and elements in the right subtree are greater, allowing for efficient search operations."
   ]
  },
  {
   "cell_type": "code",
   "execution_count": 15,
   "metadata": {},
   "outputs": [
    {
     "name": "stdout",
     "output_type": "stream",
     "text": [
      "Key found: 60\n"
     ]
    }
   ],
   "source": [
    "class Node:\n",
    "    def __init__(self, key):\n",
    "        self.key = key\n",
    "        self.left = None\n",
    "        self.right = None\n",
    "    \n",
    "def insert(root, key):\n",
    "    if root is None:\n",
    "        return Node(key)\n",
    "    if key > root.key:\n",
    "        root.right = insert(root.right, key)\n",
    "    elif key < root.key:\n",
    "        root.left = insert(root.left, key)\n",
    "    return root\n",
    "    \n",
    "def search(root, key):\n",
    "    if root is None or root.key == key:\n",
    "        return root\n",
    "    if key > root.key:\n",
    "        return search(root.right, key)\n",
    "    return search(root.left, key)\n",
    "\n",
    "root = None\n",
    "\n",
    "root = insert(root, 50)\n",
    "root = insert(root, 30)\n",
    "root = insert(root, 20)\n",
    "root = insert(root, 40)\n",
    "root = insert(root, 70)\n",
    "root = insert(root, 60)\n",
    "root = insert(root, 80)\n",
    "\n",
    "result = search(root, 60)\n",
    "if result is not None:\n",
    "    print(\"Key found:\", result.key)\n",
    "else:\n",
    "    print(\"Key not found\")"
   ]
  },
  {
   "attachments": {},
   "cell_type": "markdown",
   "metadata": {},
   "source": [
    "#### Ternary Search\n",
    "Time Complexity: O(log3 n)\n",
    "Similar to binary search, but it divides the search space into three parts instead of two. It compares the target value with two midpoints of the search range and reduces the search space accordingly"
   ]
  },
  {
   "cell_type": "code",
   "execution_count": 16,
   "metadata": {},
   "outputs": [
    {
     "name": "stdout",
     "output_type": "stream",
     "text": [
      "Target found at index 5\n"
     ]
    }
   ],
   "source": [
    "def ternary_search(arr, target):\n",
    "    left = 0\n",
    "    right = len(arr) - 1\n",
    "\n",
    "    while left <= right:\n",
    "        partition_size = (right - left) // 3\n",
    "        mid1 = left + partition_size\n",
    "        mid2 = right - partition_size\n",
    "\n",
    "        if arr[mid1] == target:\n",
    "            return mid1\n",
    "        if arr[mid2] == target:\n",
    "            return mid2\n",
    "\n",
    "        if target < arr[mid1]:\n",
    "            right = mid1 - 1\n",
    "        elif target > arr[mid2]:\n",
    "            left = mid2 + 1\n",
    "        else:\n",
    "            left = mid1 + 1\n",
    "            right = mid2 - 1\n",
    "\n",
    "    return -1\n",
    "\n",
    "\n",
    "# Example usage\n",
    "arr = [2, 4, 6, 8, 10, 12, 14, 16, 18, 20]\n",
    "target = 12\n",
    "\n",
    "result = ternary_search(arr, target)\n",
    "if result != -1:\n",
    "    print(\"Target found at index\", result)\n",
    "else:\n",
    "    print(\"Target not found\")\n"
   ]
  },
  {
   "attachments": {},
   "cell_type": "markdown",
   "metadata": {},
   "source": [
    "#### Interpolation Search:\n",
    "\n",
    "Time Complexity: O(log log n) (on average)\n",
    "It makes an estimate of the target position based on the values at the endpoints and performs a proportional reduction of the search space with each comparison."
   ]
  },
  {
   "cell_type": "code",
   "execution_count": 17,
   "metadata": {},
   "outputs": [
    {
     "name": "stdout",
     "output_type": "stream",
     "text": [
      "Target found at index 5\n"
     ]
    }
   ],
   "source": [
    "def interpolation_search(arr, target):\n",
    "    left = 0\n",
    "    right = len(arr) - 1\n",
    "\n",
    "    while left <= right and arr[left] <= target <= arr[right]:\n",
    "        if left == right:\n",
    "            if arr[left] == target:\n",
    "                return left\n",
    "            return -1\n",
    "\n",
    "        pos = left + ((target - arr[left]) * (right - left)) // (arr[right] - arr[left])\n",
    "\n",
    "        if arr[pos] == target:\n",
    "            return pos\n",
    "\n",
    "        if arr[pos] < target:\n",
    "            left = pos + 1\n",
    "        else:\n",
    "            right = pos - 1\n",
    "\n",
    "    return -1\n",
    "\n",
    "\n",
    "# Example usage\n",
    "arr = [2, 4, 6, 8, 10, 12, 14, 16, 18, 20]\n",
    "target = 12\n",
    "\n",
    "result = interpolation_search(arr, target)\n",
    "if result != -1:\n",
    "    print(\"Target found at index\", result)\n",
    "else:\n",
    "    print(\"Target not found\")\n"
   ]
  },
  {
   "cell_type": "code",
   "execution_count": null,
   "metadata": {},
   "outputs": [],
   "source": []
  }
 ],
 "metadata": {
  "kernelspec": {
   "display_name": "Python 3",
   "language": "python",
   "name": "python3"
  },
  "language_info": {
   "codemirror_mode": {
    "name": "ipython",
    "version": 3
   },
   "file_extension": ".py",
   "mimetype": "text/x-python",
   "name": "python",
   "nbconvert_exporter": "python",
   "pygments_lexer": "ipython3",
   "version": "3.10.8"
  },
  "orig_nbformat": 4
 },
 "nbformat": 4,
 "nbformat_minor": 2
}
