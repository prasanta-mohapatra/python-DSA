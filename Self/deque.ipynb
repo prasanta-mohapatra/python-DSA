{
 "cells": [
  {
   "attachments": {},
   "cell_type": "markdown",
   "metadata": {},
   "source": [
    "### Dequeue\n",
    "A double-ended queue, or deque, supports adding and removing elements from either end. The more commonly used stacks and queues are degenerate forms of deques, where the inputs and outputs are restricted to a single end"
   ]
  },
  {
   "cell_type": "code",
   "execution_count": 6,
   "metadata": {},
   "outputs": [],
   "source": [
    "class Dequeue:\n",
    "    def __init__(self) -> None:\n",
    "        self.data = []\n",
    "    def __str__(self) -> str:\n",
    "        return str(self.data)\n",
    "    def appendleft(self, element) ->None:\n",
    "        self.data.insert(0,element)\n",
    "    def appendright(self, element) ->None:\n",
    "        self.data.append(element)\n",
    "    def popleft(self) ->None:\n",
    "        if self.data:\n",
    "            return self.data.pop(0)\n",
    "    def popright(self) ->None:\n",
    "        if self.data:\n",
    "            self.data.pop(-1)"
   ]
  },
  {
   "cell_type": "code",
   "execution_count": 9,
   "metadata": {},
   "outputs": [
    {
     "name": "stdout",
     "output_type": "stream",
     "text": [
      "[2, 1]\n",
      "[2, 1, 99, 100]\n",
      "[100]\n",
      "[]\n"
     ]
    }
   ],
   "source": [
    "dequeue = Dequeue()\n",
    "dequeue.appendleft(1)\n",
    "dequeue.appendleft(2)\n",
    "print(dequeue)\n",
    "dequeue.appendright(99)\n",
    "dequeue.appendright(100)\n",
    "print(dequeue)\n",
    "dequeue.popleft()\n",
    "dequeue.popleft()\n",
    "dequeue.popleft()\n",
    "print(dequeue)\n",
    "dequeue.popright()\n",
    "dequeue.popright()\n",
    "print(dequeue)"
   ]
  },
  {
   "cell_type": "code",
   "execution_count": null,
   "metadata": {},
   "outputs": [],
   "source": []
  }
 ],
 "metadata": {
  "kernelspec": {
   "display_name": "Python 3",
   "language": "python",
   "name": "python3"
  },
  "language_info": {
   "codemirror_mode": {
    "name": "ipython",
    "version": 3
   },
   "file_extension": ".py",
   "mimetype": "text/x-python",
   "name": "python",
   "nbconvert_exporter": "python",
   "pygments_lexer": "ipython3",
   "version": "3.10.8"
  },
  "orig_nbformat": 4
 },
 "nbformat": 4,
 "nbformat_minor": 2
}
