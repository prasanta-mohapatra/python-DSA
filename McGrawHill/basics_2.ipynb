{
 "cells": [
  {
   "attachments": {},
   "cell_type": "markdown",
   "metadata": {},
   "source": [
    "### numbers"
   ]
  },
  {
   "cell_type": "code",
   "execution_count": 2,
   "metadata": {},
   "outputs": [
    {
     "name": "stdout",
     "output_type": "stream",
     "text": [
      "24\n",
      "45\n"
     ]
    }
   ],
   "source": [
    "my_num = 24\n",
    "print(my_num)\n",
    "\n",
    "my_total = 22 + 23\n",
    "print(my_total)"
   ]
  },
  {
   "attachments": {},
   "cell_type": "markdown",
   "metadata": {},
   "source": [
    "### Complex number"
   ]
  },
  {
   "cell_type": "code",
   "execution_count": 4,
   "metadata": {},
   "outputs": [
    {
     "name": "stdout",
     "output_type": "stream",
     "text": [
      "2j\n",
      "(1+2j)\n",
      "(2+3j)\n",
      "2.0\n",
      "3.0\n",
      "(2-3j)\n",
      "3.605551275463989\n"
     ]
    }
   ],
   "source": [
    "print(2j)\n",
    "\n",
    "print(1 + 2j)\n",
    "\n",
    "print(complex(2,3))\n",
    "\n",
    "z = 2 + 3j\n",
    "print(z.real)\n",
    "print(z.imag)\n",
    "print(z.conjugate())\n",
    "print(abs(z)) # ((x**2 + y**2)**1/2)"
   ]
  },
  {
   "attachments": {},
   "cell_type": "markdown",
   "metadata": {},
   "source": [
    "### Bool"
   ]
  },
  {
   "cell_type": "code",
   "execution_count": 5,
   "metadata": {},
   "outputs": [
    {
     "name": "stdout",
     "output_type": "stream",
     "text": [
      "True\n",
      "False\n"
     ]
    }
   ],
   "source": [
    "print(True)\n",
    "print(False)"
   ]
  },
  {
   "attachments": {},
   "cell_type": "markdown",
   "metadata": {},
   "source": [
    "### Sequence and Other Containers (Non-sequenced COntainers)"
   ]
  },
  {
   "attachments": {},
   "cell_type": "markdown",
   "metadata": {},
   "source": [
    "#### 1. Strings"
   ]
  },
  {
   "cell_type": "code",
   "execution_count": 6,
   "metadata": {},
   "outputs": [
    {
     "name": "stdout",
     "output_type": "stream",
     "text": [
      "Hello World\n",
      "H\n",
      "ello\n",
      "Hello World From me\n",
      "Hello WorldHello WorldHello WorldHello World\n"
     ]
    }
   ],
   "source": [
    "my_str = 'Hello World'\n",
    "\n",
    "print(my_str) # prints entire string\n",
    "\n",
    "print(my_str[0]) # Prints 1st character of the string\n",
    "\n",
    "print(my_str[1:5]) # Prints characters from index 1 to index 4 (5-1-> 4)\n",
    "\n",
    "print(my_str + \" From me\") # contcatenates two strings and prints them\n",
    "\n",
    "print(my_str * 4) # Strings cocatenates 4 times"
   ]
  },
  {
   "attachments": {},
   "cell_type": "markdown",
   "metadata": {},
   "source": [
    "### Difference between numeric literal and numeric variable?"
   ]
  },
  {
   "attachments": {},
   "cell_type": "markdown",
   "metadata": {},
   "source": [
    "The main difference between a numeric literal and a numeric variable is as follows:\n",
    "\n",
    "1. Numeric Literal: A numeric literal is a fixed value that directly represents a specific numeric value in the code. It is a literal representation of a number and is written directly in the code. For example, `5`, `3.14`, and `1000` are numeric literals representing an integer, a floating-point number, and an integer respectively. Numeric literals are fixed values that do not change during the program execution.\n",
    "\n",
    "2. Numeric Variable: A numeric variable is a named storage location that can hold a numeric value. Unlike a numeric literal, a numeric variable can vary in value during the program execution. It is created using an identifier and can be assigned different numeric values at different points in the program. For example, `x = 5` creates a numeric variable named x and assigns it the value `5`. The value of the numeric variable can be changed by assigning it a new value, such as `x = 10`.\n",
    "\n",
    "In summary, a numeric literal is a fixed value that represents a specific numeric value in the code, while a numeric variable is a named storage location that can hold a numeric value and can vary in value during program execution. Numeric literals are directly written in the code, whereas numeric variables are created using identifiers and can be assigned different values."
   ]
  },
  {
   "attachments": {},
   "cell_type": "markdown",
   "metadata": {},
   "source": [
    "### how does one modify a string in place"
   ]
  },
  {
   "attachments": {},
   "cell_type": "markdown",
   "metadata": {},
   "source": [
    "\n",
    "In Python, strings are immutable, which means they cannot be modified in place. Whenever you perform an operation that appears to modify a string, it actually creates a new string object with the modified value.\n",
    "\n",
    "However, there are a few workarounds to achieve a similar effect:\n",
    "\n",
    "1. Reassignment: You can assign a new value to the variable that holds the string. This effectively replaces the old string with a new one. For example:\n",
    "```python\n",
    "s = \"Hello\"\n",
    "s = s + \" World\"  # Assigning a new value to s\n",
    "print(s)  # Output: \"Hello World\"\n",
    "```\n",
    "\n",
    "2. List conversion: You can convert the string into a list, which is mutable, perform the desired modifications, and then convert it back to a string. For example:\n",
    "```python\n",
    "s = \"Hello\"\n",
    "s_list = list(s)  # Convert string to a list\n",
    "s_list[0] = \"J\"  # Modify the list\n",
    "s = \"\".join(s_list)  # Convert the list back to a string\n",
    "print(s)  # Output: \"Jello\"\n",
    "```\n",
    "3. Mutable data types: If you need to perform frequent in-place modifications on a sequence of characters, you can use mutable data types like bytearray or list instead of strings. These data types allow you to modify elements directly. However, keep in mind that they have different properties and methods compared to strings.\n",
    "\n",
    "Remember, when modifying strings in Python, it's important to understand whether you actually need to modify the original string in place or if creating a new string is acceptable for your use case."
   ]
  },
  {
   "attachments": {},
   "cell_type": "markdown",
   "metadata": {},
   "source": [
    "### "
   ]
  }
 ],
 "metadata": {
  "kernelspec": {
   "display_name": "Python 3",
   "language": "python",
   "name": "python3"
  },
  "language_info": {
   "codemirror_mode": {
    "name": "ipython",
    "version": 3
   },
   "file_extension": ".py",
   "mimetype": "text/x-python",
   "name": "python",
   "nbconvert_exporter": "python",
   "pygments_lexer": "ipython3",
   "version": "3.10.8"
  },
  "orig_nbformat": 4
 },
 "nbformat": 4,
 "nbformat_minor": 2
}
